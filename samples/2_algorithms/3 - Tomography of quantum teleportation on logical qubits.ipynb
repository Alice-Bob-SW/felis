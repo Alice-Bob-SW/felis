{
 "cells": [
  {
   "cell_type": "markdown",
   "id": "1f76977f",
   "metadata": {},
   "source": [
    "# Tomography of quantum teleportation on logical qubits\n",
    "\n",
    "This notebook studies the logical errors introduced by a quantum teleportation circuit, when the circuit in run on an emulator of Alice & Bob's logical qubits.\n",
    "\n",
    "A logical qubit is the combination of multiple physical cat qubits into a more robust qubit using a linear repetition error correction code.\n",
    "The emulator of logical qubits is configured to match the assumptions of the paper \"[Performance Analysis of a Repetition Cat Code Architecture: Computing 256-bit Elliptic Curve Logarithm in 9 Hours with 126133 Cat Qubits](https://arxiv.org/abs/2302.06639)\" [Gouzien et al., 2023]. It does not represent the current performance of Alice & Bob's cat qubits."
   ]
  },
  {
   "cell_type": "markdown",
   "id": "3100d6e2-391e-4200-bdc7-1636dead107d",
   "metadata": {},
   "source": [
    "## Instantiating the emulator"
   ]
  },
  {
   "cell_type": "code",
   "execution_count": null,
   "id": "d5773b75",
   "metadata": {},
   "outputs": [],
   "source": [
    "from qiskit_alice_bob_provider import AliceBobLocalProvider\n",
    "from qiskit import transpile, QuantumCircuit\n",
    "import numpy as np\n",
    "from tqdm.notebook import tqdm\n",
    "from matplotlib import pyplot as plt"
   ]
  },
  {
   "cell_type": "code",
   "execution_count": null,
   "id": "42dc26be",
   "metadata": {},
   "outputs": [],
   "source": [
    "provider = AliceBobLocalProvider()\n",
    "print(provider.backends())"
   ]
  },
  {
   "cell_type": "code",
   "execution_count": null,
   "id": "99d79447",
   "metadata": {},
   "outputs": [],
   "source": [
    "backend = provider.get_backend('EMU:15Q:LOGICAL_EARLY')"
   ]
  },
  {
   "cell_type": "markdown",
   "id": "4643a119-d4b5-4833-b19b-24943da5cb06",
   "metadata": {},
   "source": [
    "## Quantum teleportation routine\n",
    "\n",
    "The code below builds a quantum teleportation routine.\n",
    "After an execution of this circuit, the quantum state of qubit $q_0$ is moved into qubit $q_2$."
   ]
  },
  {
   "cell_type": "code",
   "execution_count": null,
   "id": "046da453",
   "metadata": {},
   "outputs": [],
   "source": [
    "def build_teleportation_routine() -> QuantumCircuit:\n",
    "    teleportation = QuantumCircuit(3, 2, name='teleport')\n",
    "    teleportation.initialize('+', [1])\n",
    "    teleportation.initialize('0', [2])\n",
    "    teleportation.cx(1, 2)\n",
    "    teleportation.cx(0, 1)\n",
    "    teleportation.measure_x(0, 0)\n",
    "    teleportation.measure(1, 1)\n",
    "    teleportation.x(2).c_if(1, 1)\n",
    "    teleportation.z(2).c_if(0, 1)\n",
    "    return teleportation"
   ]
  },
  {
   "cell_type": "code",
   "execution_count": null,
   "id": "240f660f",
   "metadata": {},
   "outputs": [],
   "source": [
    "build_teleportation_routine().draw('mpl')"
   ]
  },
  {
   "cell_type": "markdown",
   "id": "1e592810-5f90-4959-8064-a12eb257c4f0",
   "metadata": {},
   "source": [
    "## Tomography circuit\n",
    "\n",
    "The next cells build a circuit that performs a partial quantum process tomography of the teleportation routine discussed above.\n",
    "\n",
    "It does the following:\n",
    "* Prepare a known state ($|0>$ or $|+>$) in qubit $q_0$\n",
    "* Apply the quantum teleportation routine\n",
    "* Measure the output in qubit $q_2$.\n",
    "  * If $|0>$ was prepared, a measurement in the Z basis is performed. This will tell us about the (logical) bit flip rate\n",
    "  * If $|+>$ was prepared, a measurement in the X basis is performed. This will tell us about the (logical) phase flip rate"
   ]
  },
  {
   "cell_type": "code",
   "execution_count": null,
   "id": "e0c14581",
   "metadata": {},
   "outputs": [],
   "source": [
    "def build_teleportation_tomography(teleported_state: str) -> QuantumCircuit:\n",
    "    assert teleported_state in {\"+\", \"-\", \"0\", \"1\"}\n",
    "    circuit = QuantumCircuit(3, 3)\n",
    "    circuit.initialize(teleported_state, 0)\n",
    "    circuit.append(build_teleportation_routine().to_instruction(), [0, 1, 2], [0, 1])\n",
    "    if teleported_state in {\"+\", \"-\"}:\n",
    "        circuit.measure_x(2, 2)\n",
    "    else:\n",
    "        circuit.measure(2, 2)\n",
    "    return circuit"
   ]
  },
  {
   "cell_type": "code",
   "execution_count": null,
   "id": "7b708642",
   "metadata": {},
   "outputs": [],
   "source": [
    "plus_circuit = build_teleportation_tomography('+')\n",
    "plus_circuit.draw('mpl')"
   ]
  },
  {
   "cell_type": "markdown",
   "id": "ef5fc35a-ad65-4919-a74c-932372a8ce85",
   "metadata": {},
   "source": [
    "Let's transpile this circuit to see how it will be executed on the logical qubits emulator:"
   ]
  },
  {
   "cell_type": "code",
   "execution_count": null,
   "id": "41f3c1dc",
   "metadata": {},
   "outputs": [],
   "source": [
    "transpiled_plus = transpile(plus_circuit, backend)\n",
    "transpiled_plus.draw('mpl')"
   ]
  },
  {
   "cell_type": "markdown",
   "id": "af4be1a7-b4db-46e3-be2e-2dfed3593ccc",
   "metadata": {},
   "source": [
    "An execution on the emulator shows that qubit $q_2$ (the leftmost digit) is almost always in state 0, which we expect. There are however some error due to phase flip errors."
   ]
  },
  {
   "cell_type": "code",
   "execution_count": null,
   "id": "07bf9ef5",
   "metadata": {},
   "outputs": [],
   "source": [
    "backend.run(transpiled_plus).result().get_counts()"
   ]
  },
  {
   "cell_type": "markdown",
   "id": "c943197b-8629-4d1d-8fd5-d44572b10ee5",
   "metadata": {},
   "source": [
    "Let's run an instance of the circuit with a preparation of state $|0>$ to observe bit flips:"
   ]
  },
  {
   "cell_type": "code",
   "execution_count": null,
   "id": "d1444536-6d6b-48b4-9894-8c9ae9c81d14",
   "metadata": {},
   "outputs": [],
   "source": [
    "zero_circuit = build_teleportation_tomography('0')\n",
    "transpiled_zero = transpile(zero_circuit, backend)\n",
    "backend.run(transpiled_zero).result().get_counts()"
   ]
  },
  {
   "cell_type": "markdown",
   "id": "b43425ee-bc62-4a62-85f6-c4e99dcfa097",
   "metadata": {},
   "source": [
    "## Quantitative study\n",
    "\n",
    "In this section, we will execute the quantum teleportation tomography with different sets of parameters for the logical qubits emulation.\n",
    "\n",
    "The varying parameters study are:\n",
    "* the average number of photons. The more photons the less bit flips (exponentially) and the more phase flips (linearly).\n",
    "* the distance of the phase error correction code. A long distance will introduce more bit flips, but also correct phase flips. This is true up to a certain point: if the phase flip error is too high, error correction will only make things worse. We say the phase flip rate is above the error correction threshold."
   ]
  },
  {
   "cell_type": "code",
   "execution_count": null,
   "id": "eaa90ff9-99e6-41f9-9e3f-be2fbf55ec8d",
   "metadata": {},
   "outputs": [],
   "source": [
    "k1 = 100\n",
    "k2 = 100_000\n",
    "average_nb_photonss = np.linspace(4, 24, 11)\n",
    "distances = 2 * np.arange(1, 10) + 1\n",
    "shots = 10_000\n",
    "\n",
    "bit_flips = np.zeros((max(average_nb_photonss.shape), max(distances.shape)))\n",
    "phase_flips = np.zeros((max(average_nb_photonss.shape), max(distances.shape)))\n",
    "\n",
    "plus_circuit = build_teleportation_tomography(\"+\")\n",
    "zero_circuit = build_teleportation_tomography(\"0\")\n",
    "\n",
    "for j, distance in enumerate(tqdm(distances)):\n",
    "    for i, average_nb_photons in enumerate(tqdm(average_nb_photonss)):\n",
    "        backend = provider.get_backend(\n",
    "            \"EMU:40Q:LOGICAL_TARGET\",\n",
    "            average_nb_photons=average_nb_photons,\n",
    "            distance=distance,\n",
    "            kappa_2=k2,\n",
    "            kappa_1=k1,\n",
    "        )\n",
    "        counts = backend.run(transpiled_zero, shots=shots).result().get_counts()\n",
    "        for word, count in counts.items():\n",
    "            if word[0] == \"1\":\n",
    "                bit_flips[i][j] += count\n",
    "        counts = backend.run(transpiled_plus, shots=shots).result().get_counts()\n",
    "        for word, count in counts.items():\n",
    "            if word[0] == \"1\":\n",
    "                phase_flips[i][j] += count"
   ]
  },
  {
   "cell_type": "markdown",
   "id": "e44b05ed-096d-4da2-8724-ec04573bdac3",
   "metadata": {},
   "source": [
    "The bit flip rate is exponentially reduced when increasing the average number of photons. Although a high error correction distance has an adverse effect on the bit flip rate, this effect is quickly anihilated when increasing the average number of photons."
   ]
  },
  {
   "cell_type": "code",
   "execution_count": null,
   "id": "a03ae9ee-70fc-44c5-93d9-b4f7fd1a0d21",
   "metadata": {},
   "outputs": [],
   "source": [
    "plt.figure()\n",
    "plt.title(f\"Bit flip rate (k1/k2={k1/k2:.0e})\")\n",
    "colors = plt.cm.viridis(np.linspace(0, 1, max(distances.shape)))\n",
    "for j, distance in enumerate(distances):\n",
    "    plt.plot(\n",
    "        average_nb_photonss,\n",
    "        bit_flips[:, j] / shots,\n",
    "        label=f\"Distance {distance}\",\n",
    "        c=colors[j],\n",
    "    )\n",
    "plt.xlabel(\"Average number of photons\")\n",
    "plt.ylabel(\"Bit flip rate\")\n",
    "plt.legend()\n",
    "plt.show()"
   ]
  },
  {
   "cell_type": "markdown",
   "id": "f1200206-71d7-4189-87a0-5e7d2803eda1",
   "metadata": {},
   "source": [
    "The phase flip rate generally increases with the average number of photons. This is mitigated by error correction, up to a certain point.\n",
    "When the average number of photons is high and the phase flip rate is above the error correction threshold, more error correction (larger distance) only makes things worse."
   ]
  },
  {
   "cell_type": "code",
   "execution_count": null,
   "id": "319c9373-ac8a-40cb-913f-16cee6ae4153",
   "metadata": {},
   "outputs": [],
   "source": [
    "plt.figure()\n",
    "plt.title(f\"Phase flip rate (k1/k2={k1/k2:.0e})\")\n",
    "colors = plt.cm.viridis(np.linspace(0, 1, max(distances.shape)))\n",
    "for j, distance in enumerate(distances):\n",
    "    plt.plot(\n",
    "        average_nb_photonss,\n",
    "        phase_flips[:, j] / shots,\n",
    "        label=f\"Distance {distance}\",\n",
    "        c=colors[j],\n",
    "    )\n",
    "plt.xlabel(\"Average number of photons\")\n",
    "plt.ylabel(\"Phase flip rate\")\n",
    "plt.legend()\n",
    "plt.show()"
   ]
  }
 ],
 "metadata": {
  "kernelspec": {
   "display_name": "Python 3 (ipykernel)",
   "language": "python",
   "name": "python3"
  },
  "language_info": {
   "codemirror_mode": {
    "name": "ipython",
    "version": 3
   },
   "file_extension": ".py",
   "mimetype": "text/x-python",
   "name": "python",
   "nbconvert_exporter": "python",
   "pygments_lexer": "ipython3",
   "version": "3.11.8"
  }
 },
 "nbformat": 4,
 "nbformat_minor": 5
}
