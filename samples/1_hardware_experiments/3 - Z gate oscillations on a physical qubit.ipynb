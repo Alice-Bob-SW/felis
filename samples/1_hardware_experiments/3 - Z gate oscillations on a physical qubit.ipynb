{
 "cells": [
  {
   "cell_type": "markdown",
   "id": "06b60116-99cf-457f-8551-53a1569466e1",
   "metadata": {},
   "source": [
    "# Z gate oscillations on prospective physical cat qubits\n",
    "\n",
    "This notebook studies the bit flip scaling, phase flip scaling, and oscillations of the Z gate on an emulator of physical cat qubits. It is a preliminary to the notebook entitled \"Study of error detection codes on prospective physical cat qubits\". The objective is to study the individual properties of the qubits used in the model, before jumping to the study of multi-qubit circuits.\n",
    "\n",
    "The emulator is configured to have the same properties as the qubits used in the paper [High-performance repetition cat code using fast noisy operations](https://arxiv.org/abs/2212.11927) [Le Régent et al., 2022]. This model does not represent the current performance of Alice & Bob's cat qubits."
   ]
  },
  {
   "cell_type": "markdown",
   "id": "f96ae03a-2d75-4f45-af6b-73af873ede7c",
   "metadata": {},
   "source": [
    "## Helper code for demo (skip)"
   ]
  },
  {
   "cell_type": "code",
   "execution_count": null,
   "id": "4fbcadf9-bd43-43b4-8df8-5903b52c9acf",
   "metadata": {},
   "outputs": [],
   "source": [
    "from qiskit import QuantumCircuit, transpile\n",
    "from matplotlib import pyplot as plt\n",
    "import numpy as np\n",
    "import scipy as sp\n",
    "from tqdm.notebook import tqdm\n",
    "import warnings\n",
    "\n",
    "# set default plot parameters\n",
    "plt.rcParams.update(\n",
    "    {\n",
    "        \"figure.facecolor\": \"white\",\n",
    "        \"axes.facecolor\": \"white\",\n",
    "        \"font.family\": \"serif\",\n",
    "        \"font.size\": 16,\n",
    "        \"figure.dpi\": 72.0,\n",
    "        \"xtick.direction\": \"in\",\n",
    "        \"ytick.direction\": \"in\",\n",
    "        \"xtick.major.size\": 5.0,\n",
    "        \"xtick.minor.size\": 2.5,\n",
    "        \"ytick.major.size\": 5.0,\n",
    "        \"ytick.minor.size\": 2.5,\n",
    "        \"xtick.minor.visible\": True,\n",
    "        \"ytick.minor.visible\": True,\n",
    "        \"axes.grid\": True,\n",
    "        \"axes.titlesize\": \"larger\",\n",
    "        \"axes.labelsize\": \"larger\",\n",
    "        \"legend.fontsize\": \"larger\",\n",
    "        \"grid.color\": \"gray\",\n",
    "        \"grid.linestyle\": \"--\",\n",
    "        \"grid.alpha\": 0.3,\n",
    "        \"lines.linewidth\": 1.0,\n",
    "        \"figure.figsize\": (16, 8),\n",
    "    }\n",
    ")\n",
    "\n",
    "\n",
    "def fitted_curve(t, T, a, b):\n",
    "    return a * np.exp(-t / T) + b\n",
    "\n",
    "\n",
    "def fit_typical_time(delay_durations, probs):\n",
    "    with warnings.catch_warnings():\n",
    "        warnings.simplefilter(\"ignore\")\n",
    "        opt, _ = sp.optimize.curve_fit(\n",
    "            fitted_curve,\n",
    "            delay_durations,\n",
    "            probs,\n",
    "            p0=[np.median(delay_durations), probs[0] - probs[-1], probs[-1]],\n",
    "            method=\"trf\",\n",
    "        )\n",
    "        return opt"
   ]
  },
  {
   "cell_type": "markdown",
   "id": "2a29fe63-87fd-4e7f-bef3-ef1841f30e99",
   "metadata": {},
   "source": [
    "## Instantiating the emulator"
   ]
  },
  {
   "cell_type": "code",
   "execution_count": null,
   "id": "30fc8aa4-dfc2-4e20-92b7-b254766c3b36",
   "metadata": {},
   "outputs": [],
   "source": [
    "from qiskit_alice_bob_provider.local.provider import AliceBobLocalProvider\n",
    "\n",
    "provider = AliceBobLocalProvider()"
   ]
  },
  {
   "cell_type": "code",
   "execution_count": null,
   "id": "ac20cd6e-0052-4128-88be-76b862cdd4fc",
   "metadata": {},
   "outputs": [],
   "source": [
    "provider.backends()"
   ]
  },
  {
   "cell_type": "code",
   "execution_count": null,
   "id": "9cd597e6-70d4-4fbd-bdc7-931646938319",
   "metadata": {},
   "outputs": [],
   "source": [
    "backend = provider.get_backend('EMU:40Q:PHYSICAL_CATS')"
   ]
  },
  {
   "cell_type": "markdown",
   "id": "03786e71-e942-4ecf-9907-246fd98718e9",
   "metadata": {},
   "source": [
    "## Single qubit bit flip time $T_{bf}$ as a function of $\\bar n = |\\alpha|^2$"
   ]
  },
  {
   "cell_type": "code",
   "execution_count": null,
   "id": "97ab68a3-73ad-44ed-950d-52eff98583e3",
   "metadata": {},
   "outputs": [],
   "source": [
    "def build_bit_flip_circuit(delay_duration_s: float) -> QuantumCircuit:\n",
    "    circ = QuantumCircuit(1, 1)\n",
    "    circ.initialize(0)\n",
    "    circ.delay(delay_duration_s, 0, unit='s')\n",
    "    circ.measure(0, 0)\n",
    "    return circ"
   ]
  },
  {
   "cell_type": "code",
   "execution_count": null,
   "id": "57aa3c02-7888-4311-8dbc-592719d42a15",
   "metadata": {},
   "outputs": [],
   "source": [
    "circ = build_bit_flip_circuit(10)\n",
    "circ.draw('mpl')"
   ]
  },
  {
   "cell_type": "code",
   "execution_count": null,
   "id": "8c86d3ad-2764-42d7-8c5d-0f4050f4659b",
   "metadata": {},
   "outputs": [],
   "source": [
    "nbars = np.linspace(4, 12, 7)\n",
    "delay_durations_s = np.logspace(-4, 10, 10)\n",
    "k1s = [100, 1_000, 10_000]\n",
    "k2 = 10_000_000\n",
    "shots = 1_000"
   ]
  },
  {
   "cell_type": "code",
   "execution_count": null,
   "id": "7564dd9f-d33f-4bb6-ac07-2329ae4aa2cb",
   "metadata": {},
   "outputs": [],
   "source": [
    "tbf_fitted = {}\n",
    "\n",
    "for k1 in tqdm(k1s):\n",
    "    tbf_fitted[k1] = []\n",
    "    for nbar in tqdm(nbars):\n",
    "        backend = provider.get_backend(\n",
    "            \"EMU:40Q:PHYSICAL_CATS\", average_nb_photons=nbar, kappa_1=k1, kappa_2=k2\n",
    "        )\n",
    "        jobs = []\n",
    "        for delay_duration_s in delay_durations_s:\n",
    "            circ = build_bit_flip_circuit(delay_duration_s)\n",
    "            jobs.append(backend.run(circ, shots=shots))\n",
    "        results = [job.result() for job in jobs]\n",
    "        flip_fractions = [r.get_counts().get(\"1\", 0) / shots for r in results]\n",
    "        Tbf, a, b = fit_typical_time(delay_durations_s, flip_fractions)\n",
    "        tbf_fitted[k1].append(Tbf)"
   ]
  },
  {
   "cell_type": "code",
   "execution_count": null,
   "id": "e25dee20-c39a-46aa-9442-19f60ca020d9",
   "metadata": {},
   "outputs": [],
   "source": [
    "plt.figure()\n",
    "plt.title(\"$T_{bf}=f(\\\\bar{n})$\")\n",
    "plt.xlabel(\"$\\\\bar{n} = |\\\\alpha|^2$ (number of photons)\")\n",
    "plt.ylabel(\"$T_{bf}$ [$s$]\")\n",
    "for k1 in k1s:\n",
    "    plt.plot(\n",
    "        nbars,\n",
    "        tbf_fitted[k1],\n",
    "        label=f\"$\\\\kappa_1$={k1:.0e}Hz, $\\\\kappa_1/\\\\kappa_2$={k1/k2:.0e}\",\n",
    "        lw=0.5,\n",
    "        marker=\"o\",\n",
    "        ms=10,\n",
    "    )\n",
    "plt.semilogy()\n",
    "plt.legend()\n",
    "plt.show()"
   ]
  },
  {
   "cell_type": "markdown",
   "id": "3b9be60c-e625-44a8-887c-add15ce333b5",
   "metadata": {},
   "source": [
    "We observe an exponential suppression of bit flip errors (an exponential increase of the bit flip time $T_{bf}$)."
   ]
  },
  {
   "cell_type": "markdown",
   "id": "f99913bf-7146-46b8-bc49-bf40ad7ef8ff",
   "metadata": {},
   "source": [
    "## Single qubit phase flip rate $\\Gamma_{pf}$ as a function of $\\bar n = |\\alpha|^2$"
   ]
  },
  {
   "cell_type": "code",
   "execution_count": null,
   "id": "798d9662-919b-4635-a316-f05a3db7bec1",
   "metadata": {},
   "outputs": [],
   "source": [
    "def build_phase_flip_circuit(delay_duration_s: float) -> QuantumCircuit:\n",
    "    circ = QuantumCircuit(1, 1)\n",
    "    circ.initialize('+')\n",
    "    circ.delay(delay_duration_s, 0, unit='s')\n",
    "    circ.measure_x(0, 0)\n",
    "    return circ"
   ]
  },
  {
   "cell_type": "code",
   "execution_count": null,
   "id": "6d3db1f3-fecc-46de-9c16-12233ae1807b",
   "metadata": {},
   "outputs": [],
   "source": [
    "circ = build_phase_flip_circuit(0.1)\n",
    "circ.draw('mpl')"
   ]
  },
  {
   "cell_type": "code",
   "execution_count": null,
   "id": "09f398bd-d455-4ff1-9833-680f61e0bac8",
   "metadata": {},
   "outputs": [],
   "source": [
    "nbars = np.linspace(4, 16, 7)\n",
    "delay_durations_s = np.logspace(-8, -1, 10)\n",
    "k1s = [100, 1_000]\n",
    "k2 = 10_000_000\n",
    "shots = 10_000"
   ]
  },
  {
   "cell_type": "code",
   "execution_count": null,
   "id": "7d529da7-f246-471b-a46f-d3be55e36cb8",
   "metadata": {},
   "outputs": [],
   "source": [
    "tpf_fitted = {}\n",
    "\n",
    "for k1 in tqdm(k1s):\n",
    "    tpf_fitted[k1] = []\n",
    "    for nbar in tqdm(nbars):\n",
    "        backend = provider.get_backend(\n",
    "            \"EMU:40Q:PHYSICAL_CATS\", average_nb_photons=nbar, kappa_1=k1, kappa_2=k2\n",
    "        )\n",
    "        jobs = []\n",
    "        for delay_duration_s in delay_durations_s:\n",
    "            circ = build_phase_flip_circuit(delay_duration_s)\n",
    "            jobs.append(backend.run(circ, shots=shots))\n",
    "        results = [job.result() for job in jobs]\n",
    "        flip_fractions = [r.get_counts().get(\"1\", 0) / shots for r in results]\n",
    "        Tpf, a, b = fit_typical_time(delay_durations_s, flip_fractions)\n",
    "        tpf_fitted[k1].append(Tpf)"
   ]
  },
  {
   "cell_type": "code",
   "execution_count": null,
   "id": "cae29cf6-4780-4c58-8100-adf5f04a7489",
   "metadata": {},
   "outputs": [],
   "source": [
    "plt.figure()\n",
    "plt.title(\"$T_{pf}=f(\\\\bar{n})$\")\n",
    "plt.xlabel(\"$\\\\bar{n} = |\\\\alpha|^2$ (number of photons)\")\n",
    "plt.ylabel(\"$\\\\Gamma_{pf}/2\\\\pi$ [kHz]\")\n",
    "for k1 in k1s:\n",
    "    plt.plot(\n",
    "        nbars,\n",
    "        0.5 / np.array(tpf_fitted[k1]) * 1e-3,\n",
    "        label=f\"$\\\\kappa_1$={k1:.0e}Hz, $\\\\kappa_1/\\\\kappa_2$={k1/k2:.0e}\",\n",
    "        lw=0.5,\n",
    "        marker=\"o\",\n",
    "        ms=10,\n",
    "    )\n",
    "plt.legend()\n",
    "plt.show()"
   ]
  },
  {
   "cell_type": "markdown",
   "id": "6298931f-0047-41d7-9f55-5cdf23b75c71",
   "metadata": {},
   "source": [
    "We observe a linear increase of the number of bit flip errors (a linear increase in the bit flip rate $\\Gamma_{pf}$)."
   ]
  },
  {
   "cell_type": "markdown",
   "id": "91bba994-7d38-4617-8b19-570532281f2d",
   "metadata": {},
   "source": [
    "## Single qubit Z gate oscillations"
   ]
  },
  {
   "cell_type": "code",
   "execution_count": null,
   "id": "e60e8bc6-1cc1-411f-87de-1721b5d3966c",
   "metadata": {},
   "outputs": [],
   "source": [
    "def build_oscillation_circuit(angle: float) -> QuantumCircuit:\n",
    "    circ = QuantumCircuit(1, 1)\n",
    "    circ.initialize('+')\n",
    "    circ.rz(angle, 0)\n",
    "    circ.measure_x(0, 0)\n",
    "    return circ"
   ]
  },
  {
   "cell_type": "code",
   "execution_count": null,
   "id": "f2a6fa62-1e65-419a-81ae-991898110525",
   "metadata": {},
   "outputs": [],
   "source": [
    "circ = build_oscillation_circuit(np.pi / 6)\n",
    "circ.draw('mpl')"
   ]
  },
  {
   "cell_type": "code",
   "execution_count": null,
   "id": "15d7e78c-27a2-42fa-924f-cbc50f1b2256",
   "metadata": {},
   "outputs": [],
   "source": [
    "nbars = [9, 16, 25]\n",
    "angles = np.linspace(0, 15 * np.pi, 150)\n",
    "shots = 10_000\n",
    "k1 = 100\n",
    "k2 = 10_000"
   ]
  },
  {
   "cell_type": "code",
   "execution_count": null,
   "id": "8b22a783-ed67-4d02-b773-8d97259d9ed0",
   "metadata": {},
   "outputs": [],
   "source": [
    "curves = {}\n",
    "durations = {}\n",
    "\n",
    "for nbar in tqdm(nbars):\n",
    "    curves[nbar] = []\n",
    "    durations[nbar] = []\n",
    "    backend = provider.get_backend(\n",
    "        \"EMU:40Q:PHYSICAL_CATS\", average_nb_photons=nbar, kappa_2=k2, kappa_1=k1\n",
    "    )\n",
    "    jobs = []\n",
    "    for angle in angles:\n",
    "        circ = build_oscillation_circuit(angle)\n",
    "        # Transpile the circuit to schedule it and estimate its duration.\n",
    "        transpiled = transpile(circ, backend)\n",
    "        jobs.append(backend.run(transpiled, shots=shots))\n",
    "    results = [job.result() for job in jobs]\n",
    "    flip_fractions = [r.get_counts().get(\"1\", 0) / shots for r in results]\n",
    "    durations_ = [job.circuits()[0].duration * backend.dt for job in jobs]\n",
    "    curves[nbar].append(flip_fractions)\n",
    "    durations[nbar].append(durations_)"
   ]
  },
  {
   "cell_type": "code",
   "execution_count": null,
   "id": "9f896a3e-5fb4-4ee0-9ee7-209a3c713b68",
   "metadata": {},
   "outputs": [],
   "source": [
    "plt.figure()\n",
    "plt.suptitle(\n",
    "    \"Phase flip errors when rotating around the Z axis (Rz) as a function of the rotation angle\"\n",
    ")\n",
    "plt.title(f\"$\\\\kappa_1/\\\\kappa_2$={k1/k2:.0e}\")\n",
    "plt.xlabel(\"Rotation angle $\\\\theta$ [rad]\")\n",
    "plt.ylabel(\"P(|+>)\")\n",
    "for nbar in nbars:\n",
    "    plt.plot(\n",
    "        angles,\n",
    "        np.squeeze(curves[nbar]),\n",
    "        lw=0.5,\n",
    "        marker=\"o\",\n",
    "        ms=5,\n",
    "        label=f\"$\\\\bar n$={nbar}\",\n",
    "    )\n",
    "plt.legend()\n",
    "plt.show()"
   ]
  },
  {
   "cell_type": "code",
   "execution_count": null,
   "id": "a2760b07-a050-45a6-b463-d55909ace394",
   "metadata": {},
   "outputs": [],
   "source": [
    "plt.figure()\n",
    "plt.suptitle(\n",
    "    \"Phase flip errors when rotating around the Z axis (Rz) as a function of the total circuit duration\"\n",
    ")\n",
    "plt.title(f\"$\\\\kappa_1/\\\\kappa_2$={k1/k2:.0e}\")\n",
    "plt.xlabel(\"Duration [µs]\")\n",
    "plt.ylabel(\"P(|+>)\")\n",
    "for nbar in nbars:\n",
    "    plt.plot(\n",
    "        np.squeeze(durations[nbar]) * 1e6,\n",
    "        np.squeeze(curves[nbar]),\n",
    "        lw=0.5,\n",
    "        marker=\"o\",\n",
    "        ms=5,\n",
    "        label=f\"$\\\\bar n$={nbar}\",\n",
    "    )\n",
    "plt.legend()\n",
    "plt.show()"
   ]
  }
 ],
 "metadata": {
  "kernelspec": {
   "display_name": "Python 3 (ipykernel)",
   "language": "python",
   "name": "python3"
  },
  "language_info": {
   "codemirror_mode": {
    "name": "ipython",
    "version": 3
   },
   "file_extension": ".py",
   "mimetype": "text/x-python",
   "name": "python",
   "nbconvert_exporter": "python",
   "pygments_lexer": "ipython3",
   "version": "3.11.8"
  }
 },
 "nbformat": 4,
 "nbformat_minor": 5
}
