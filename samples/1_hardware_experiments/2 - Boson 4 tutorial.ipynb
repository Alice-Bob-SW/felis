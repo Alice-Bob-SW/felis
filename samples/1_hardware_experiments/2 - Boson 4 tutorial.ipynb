{
 "cells": [
  {
   "cell_type": "markdown",
   "id": "bcd532f5",
   "metadata": {},
   "source": [
    "# Introduction"
   ]
  },
  {
   "cell_type": "markdown",
   "id": "9c2a640f",
   "metadata": {},
   "source": [
    "This notebooks shows how to use Felis Cloud to benchmark the capabilities of Boson 4, Alice & Bob's first quantum chip on the cloud!\n",
    "\n",
    "We will run experiments to characterize the performances of the cat-qubit operations. The user is given the following operations:\n",
    "\n",
    "- Preparation of $|0\\rangle$\n",
    "- Preparation of $|1\\rangle$\n",
    "- Preparation of $|+\\rangle$\n",
    "- Measurement of Pauli operator $X$\n",
    "- Measurement of Pauli operator $Z$\n",
    "- Idling during an arbitrary time $t$\n",
    "- $X(\\pi)-$gate (purely virtual gate for cat qubits)\n",
    "- $Z(\\pi)-$gate\n",
    "\n",
    "<img src=\"img/cat-blochsphere-01.png\" style=\"width:50%\">\n",
    "<center> FIG 1: Definition of the Bloch sphere of the cat-qubit </center>\n",
    "\n",
    "All these operations can be realized for various cat sizes, ranging from 4 to 10 photons.\n",
    "\n",
    "The most important property of cat qubits is that bit-flip errors are exponentially suppressed with the number of photons. We verify this property in part 3 of the notebook, measuring bit-flip times above 1 second.\n",
    "\n",
    "Interestingly, the physics behind the exponential suppression of bit-flip also allows to have exponentially precise state preparation and measurement (SPAM) of the observable Z. We will verify this property in part 4.\n",
    "\n",
    "> Since cat qubits make so few bit-flips, measuring them can be difficult. As a consequence, we may need to average millions of times, to observe even a single bit-flip. So brace yourselves in such situations, because the measurements can last a bit.\n",
    "\n",
    "<img src=\"img/cat-blochsphere-bf-pf.png\" style=\"width:40%\">\n",
    "<center> FIG 2: A bit-flip correspond to a flip in between the south and north pole of the Bloch sphere. Bit-flips are exponentially suppressed in cat qubits. On the contrary, phase-flips (flip from one side of the equator to the other) increase linearly and must be corrected by an error correcting code, like the repetition code. </center>\n",
    "\n",
    "Then, in part 5, we measure the phase-flip time, and verify that it increases only linearly with the number of photons.\n",
    "\n",
    "Finally, in parts 6 and 7, we characterize the Z-gate. In particular, we verify that it is bias-preserving.\n",
    "\n",
    "> The bit-flip time of cat qubits is many orders of magnitude larger than their phase-flip time. This property is coined **noise-bias**, and is what makes Quantum Error Correction of cat qubits so efficient. A crucial property of any operations performed on cat qubits is therefore that the operation preserve this noise bias. In this case, we say that the operation is **bias-preserving**. In part 7, we indeed verify that the Z-gate is bias-preserving.\n",
    "\n",
    "> The fact that the operations must be bias-preserving also forbids to perform $X(\\pi/2)$ and $Y(\\pi/2)$ gates, since these convert a phase-flip into a bit-flip. That's why our physical gate-set is pretty limited and not universal at the physical level. However, reassure yourself, we can make a universal gate set at the logical level out of a non-universal gate set at the physical level. See our logical qubit emulator for more details!"
   ]
  },
  {
   "cell_type": "markdown",
   "id": "a3c38481",
   "metadata": {},
   "source": [
    "# Helper functions\n",
    "\n",
    "We start with a few import and helper functions that you can run blindly for the moment."
   ]
  },
  {
   "cell_type": "markdown",
   "id": "8e77151b",
   "metadata": {},
   "source": [
    "## Import and some functions"
   ]
  },
  {
   "cell_type": "code",
   "execution_count": null,
   "id": "89376b8b",
   "metadata": {},
   "outputs": [],
   "source": [
    "from matplotlib import pyplot as plt\n",
    "import numpy as np\n",
    "import scipy as sp\n",
    "from qiskit import QuantumCircuit, transpile\n",
    "from qiskit.providers import BackendV2\n",
    "from time import sleep\n",
    "import traceback\n",
    "\n",
    "# set default plot parameters\n",
    "plt.rcParams.update(\n",
    "    {\n",
    "        \"figure.facecolor\": \"white\",\n",
    "        \"axes.facecolor\": \"white\",\n",
    "        \"font.family\": \"serif\",\n",
    "        \"font.size\": 16,\n",
    "        \"figure.dpi\": 72.0,\n",
    "        \"xtick.direction\": \"in\",\n",
    "        \"ytick.direction\": \"in\",\n",
    "        \"xtick.major.size\": 5.0,\n",
    "        \"xtick.minor.size\": 2.5,\n",
    "        \"ytick.major.size\": 5.0,\n",
    "        \"ytick.minor.size\": 2.5,\n",
    "        \"xtick.minor.visible\": True,\n",
    "        \"ytick.minor.visible\": True,\n",
    "        \"axes.grid\": True,\n",
    "        \"axes.titlesize\": \"larger\",\n",
    "        \"axes.labelsize\": \"larger\",\n",
    "        \"legend.fontsize\": \"larger\",\n",
    "        \"grid.color\": \"gray\",\n",
    "        \"grid.linestyle\": \"--\",\n",
    "        \"grid.alpha\": 0.3,\n",
    "        \"lines.linewidth\": 1.0,\n",
    "        \"figure.figsize\": (16, 8),\n",
    "    }\n",
    ")\n",
    "\n",
    "\n",
    "def build_bit_flip_circuit(\n",
    "    delay_duration_s: float, add_z: int = 0, add_x: bool = False\n",
    ") -> QuantumCircuit:\n",
    "    circ = QuantumCircuit(1, 1)\n",
    "    if add_x:\n",
    "        circ.initialize(\"1\", 0)\n",
    "    else:\n",
    "        circ.initialize(\"0\", 0)\n",
    "    for _ in range(add_z):\n",
    "        circ.z(0)\n",
    "    if delay_duration_s > 0:\n",
    "        circ.delay(delay_duration_s, 0, unit=\"s\")\n",
    "    circ.measure(0, 0)\n",
    "    return circ\n",
    "\n",
    "\n",
    "def build_phase_flip_circuit(\n",
    "    delay_duration_s: float,\n",
    "    cat_qubit_arch: bool,\n",
    "    add_z: int = 0,\n",
    ") -> QuantumCircuit:\n",
    "    circ = QuantumCircuit(1, 1)\n",
    "    if cat_qubit_arch:\n",
    "        circ.initialize(\"+\", 0)\n",
    "    else:\n",
    "        circ.h(0)\n",
    "    for _ in range(add_z):\n",
    "        circ.z(0)\n",
    "    if delay_duration_s > 0:\n",
    "        circ.delay(delay_duration_s, 0, unit=\"s\")\n",
    "    if cat_qubit_arch:\n",
    "        circ.measure_x(0, 0)\n",
    "    else:\n",
    "        circ.h(0)\n",
    "        circ.measure(0, 0)\n",
    "    return circ\n",
    "\n",
    "\n",
    "def mean_std_X(counts: dict) -> tuple[float, float]:\n",
    "    \"\"\"\n",
    "    Computes mean value and standard deviation of measurement of observable Pauli X\n",
    "    \"\"\"\n",
    "    nb_shots = counts.get(\"0\", 0) + counts.get(\"1\", 0)\n",
    "    p = counts.get(\"1\", 0) / nb_shots\n",
    "    std = np.sqrt(p * (1 - p) / nb_shots)\n",
    "    mean_X = 1 - 2 * p\n",
    "    std_X = 2 * std\n",
    "    return mean_X, std_X\n",
    "\n",
    "\n",
    "def mean_std_Z(counts: dict) -> tuple[float, float]:\n",
    "    \"\"\"\n",
    "    Computes mean value and standard deviation of measurement of observable Pauli Z\n",
    "    \"\"\"\n",
    "    nb_shots = counts.get(\"0\", 0) + counts.get(\"1\", 0)\n",
    "    p = counts.get(\"1\", 0) / nb_shots\n",
    "    std = np.sqrt(p * (1 - p) / nb_shots)\n",
    "    std = np.maximum(std, 3 / nb_shots)\n",
    "    mean_X = 2 * p - 1\n",
    "    std_X = 2 * std\n",
    "    return mean_X, std_X"
   ]
  },
  {
   "cell_type": "markdown",
   "id": "8ebf80ae",
   "metadata": {},
   "source": [
    "## Access Alice & Bob hardware with Felis Cloud"
   ]
  },
  {
   "cell_type": "markdown",
   "id": "012c5df7",
   "metadata": {},
   "source": [
    "The functions below use Felis, Alice & Bob's open-source Qiskit provider. \n",
    "\n",
    "We will use Felis to connect to a real Boson 4 chip, as well as to emulate cat qubits with performances similar to Boson 4's.\n",
    "\n",
    "Running experiments on a real Boson 4 chip requires a Felis Cloud subscription available at [https://console.cloud.google.com/marketplace/product/cloud-prod-0/felis-cloud](https://console.cloud.google.com/marketplace/product/cloud-prod-0/felis-cloud)."
   ]
  },
  {
   "cell_type": "code",
   "execution_count": null,
   "id": "090805e7",
   "metadata": {},
   "outputs": [],
   "source": [
    "from qiskit_alice_bob_provider import AliceBobRemoteProvider, AliceBobLocalProvider\n",
    "\n",
    "NB_PHOTONS_RANGE = [4.0, 6.0, 8.0, 10.0]\n",
    "\n",
    "\n",
    "def create_boson_4_backend(average_nb_photons: float) -> BackendV2:\n",
    "    ab_provider = AliceBobRemoteProvider(\n",
    "        api_key=\"YOUR_API_KEY_HERE\"\n",
    "    )\n",
    "    return ab_provider.get_backend(\n",
    "        \"QPU:1Q:BOSON_4A\", average_nb_photons=average_nb_photons\n",
    "    )\n",
    "\n",
    "\n",
    "def create_theory_cat_backend(average_nb_photons: float) -> BackendV2:\n",
    "    ab_provider = AliceBobLocalProvider()\n",
    "    return ab_provider.get_backend(\n",
    "        \"EMU:6Q:PHYSICAL_CATS\",\n",
    "        average_nb_photons=average_nb_photons,\n",
    "        kappa_1=2 * 3.14 * 2_260,\n",
    "        kappa_2=2 * 3.14 * 250_000,\n",
    "    )"
   ]
  },
  {
   "cell_type": "markdown",
   "id": "9ce5ce9a",
   "metadata": {},
   "source": [
    "# Bit-flip lifetime: P0 | Idle | Mz\n",
    "\n",
    "To measure the bit-flip time, we play the following pulse sequence:\n",
    "\n",
    "- Prepare $\\langle Z \\rangle_0 = \\pm 1$\n",
    "- Wait for some variable time $t$\n",
    "- Measure $\\langle Z \\rangle_t$\n",
    "\n",
    "We then fit $\\langle Z \\rangle_t = \\pm e^{-t/T_Z}$, where the decay time $T_Z$ of the Pauli observable $Z$ is the bit-flip time.\n",
    "\n",
    "Repeating this measurement for several number of photons $\\bar{n}$, we expect to see an exponential increase of the bit-flip time:\n",
    "\n",
    "$$T_Z \\propto e^{\\gamma\\bar{n}}$$\n",
    "\n",
    "Where the scaling factor $\\gamma \\leq 2$ in presence of pure dephasing of the oscillator.\n",
    "\n",
    "> Note: in this section, we completely neglect SPAM errors. This will be justified by the measurements of the next section."
   ]
  },
  {
   "cell_type": "markdown",
   "id": "5f604c02",
   "metadata": {},
   "source": [
    "## Circuit"
   ]
  },
  {
   "cell_type": "code",
   "execution_count": null,
   "id": "b641a68b",
   "metadata": {},
   "outputs": [],
   "source": [
    "cat_circuit = build_bit_flip_circuit(delay_duration_s=5e-6, add_x=True)\n",
    "cat_circuit.draw(\"mpl\")"
   ]
  },
  {
   "cell_type": "markdown",
   "id": "d66d24bb",
   "metadata": {},
   "source": [
    "## Helpers\n",
    "\n",
    "Helper functions to measure $\\langle Z \\rangle_t$, fit $T_Z$ and plot the result."
   ]
  },
  {
   "cell_type": "code",
   "execution_count": null,
   "id": "fbd53068",
   "metadata": {},
   "outputs": [],
   "source": [
    "def measure_bitflip_time(nb_photons, time_range, shots):\n",
    "    mean = np.zeros((time_range.size, 2), dtype=float)\n",
    "    std = np.zeros_like(mean)\n",
    "    backend = create_boson_4_backend(nb_photons)\n",
    "    # backend = create_theory_cat_backend(nb_photons)\n",
    "    for i, time in enumerate(time_range):\n",
    "        for j, add_x in enumerate([True, False]):\n",
    "            success = False\n",
    "            while not success:\n",
    "                try:\n",
    "                    circuit = build_bit_flip_circuit(delay_duration_s=time, add_x=add_x)\n",
    "                    transpiled_circ = transpile(circuit, backend)\n",
    "                    counts = backend.run(transpiled_circ, shots=shots).result().get_counts()\n",
    "                    m, s = mean_std_Z(counts)\n",
    "                    mean[i, j] = m\n",
    "                    std[i, j] = s\n",
    "                    print(\n",
    "                        f\"nb_photons = {nb_photons} - time = {time} - add_x = \"\n",
    "                        f\"{add_x} - <Z> = {mean[i, j]:.02e} +- {std[i, j]:.02e}\"\n",
    "                    )\n",
    "                    success = True\n",
    "                except Exception:\n",
    "                    traceback.print_exc()\n",
    "                    sleep(10)\n",
    "    return mean, std\n",
    "\n",
    "\n",
    "def fit_bitflip_time(time_range, mean, std):\n",
    "    def fun(t, *p):\n",
    "        T = p\n",
    "        return np.exp(-t / T)\n",
    "\n",
    "    x = time_range\n",
    "    y = 0.5 * (mean[:, 0] - mean[:, 1])\n",
    "    sigma = 0.5 * np.sqrt(std[:, 1] ** 2 + std[:, 0] ** 2)\n",
    "    T_guess = -x[1] / np.log(y[1])\n",
    "    p0 = [T_guess]\n",
    "    popt, pcov = sp.optimize.curve_fit(\n",
    "        fun, x, y, p0=p0, sigma=sigma, absolute_sigma=True\n",
    "    )\n",
    "    T_z = popt[0]\n",
    "    T_z_std = np.sqrt(pcov[0, 0])\n",
    "    fit = fun(time_range, *popt)\n",
    "    return fit, T_z, T_z_std\n",
    "\n",
    "\n",
    "def plot_bitflip_time(time_range, mean, std, fit):\n",
    "    plt.errorbar(\n",
    "        time_range,\n",
    "        mean[:, 0],\n",
    "        yerr=std[:, 0],\n",
    "        marker=\"x\",\n",
    "        markersize=8,\n",
    "        capsize=5,\n",
    "        linestyle=\"none\",\n",
    "        label=\"$P_0$\",\n",
    "    )\n",
    "    plt.errorbar(\n",
    "        time_range,\n",
    "        -mean[:, 1],\n",
    "        yerr=std[:, 1],\n",
    "        marker=\"x\",\n",
    "        markersize=8,\n",
    "        capsize=5,\n",
    "        linestyle=\"none\",\n",
    "        label=\"$P_1$\",\n",
    "    )\n",
    "    plt.plot(time_range, fit, label=\"Fit\")\n",
    "    plt.xlabel(\"Idle time (s)\")\n",
    "    plt.ylabel(\"abs(<Z>)\")\n",
    "    plt.legend()"
   ]
  },
  {
   "cell_type": "markdown",
   "id": "e52fbc8d",
   "metadata": {},
   "source": [
    "## 4 photons\n",
    "\n",
    "We start with the smaller number of photons, $\\bar{n}=4$ photons. As can be seen below, the bit-flip time $T_Z=600$ us is already one order of magnitude large than the bare $T_1$ of the oscillator."
   ]
  },
  {
   "cell_type": "code",
   "execution_count": null,
   "id": "75a6ca60",
   "metadata": {},
   "outputs": [],
   "source": [
    "nb_photons = 4.0\n",
    "time_range = np.linspace(0, 3e-3, 11)\n",
    "shots = 500\n",
    "mean, std = measure_bitflip_time(nb_photons, time_range, shots)"
   ]
  },
  {
   "cell_type": "code",
   "execution_count": null,
   "id": "3000c121",
   "metadata": {},
   "outputs": [],
   "source": [
    "fit, T_z, T_z_std = fit_bitflip_time(time_range, mean, std)\n",
    "print(f'{nb_photons} photons')\n",
    "print(f'Bit-flip time: T_Z = ({T_z:.02e} +- {T_z_std:.02e}) s')"
   ]
  },
  {
   "cell_type": "code",
   "execution_count": null,
   "id": "e348b5b3",
   "metadata": {},
   "outputs": [],
   "source": [
    "T_z_4_photons = T_z\n",
    "T_z_std_4_photons = T_z_std"
   ]
  },
  {
   "cell_type": "code",
   "execution_count": null,
   "id": "f8249b27",
   "metadata": {},
   "outputs": [],
   "source": [
    "plot_bitflip_time(time_range, mean, std, fit)"
   ]
  },
  {
   "cell_type": "markdown",
   "id": "44e14440",
   "metadata": {},
   "source": [
    "## 7 photons\n",
    "\n",
    "At $\\bar{n}=7$ photons, the bit-flip time $T_Z$ increases to several tens of milliseconds. With such lifetimes, it becomes challenging to measure the complete decay of the exponential.\n",
    "\n",
    "> Technical point: this is the main reason why we prepare both initial states $\\langle Z \\rangle_0 = -1$ and $\\langle Z \\rangle_0 = +1$. By taking the difference in between both curves, we remove any offset $\\langle Z \\rangle_{t\\rightarrow\\infty} \\neq 0$ that may exist at long time and would lead to an incorrect estimation of $T_Z$."
   ]
  },
  {
   "cell_type": "code",
   "execution_count": null,
   "id": "aecb3d0d",
   "metadata": {},
   "outputs": [],
   "source": [
    "nb_photons = 7.0\n",
    "time_range = np.linspace(0, 50e-3, 11)\n",
    "shots = 500\n",
    "mean, std = measure_bitflip_time(nb_photons, time_range, shots)"
   ]
  },
  {
   "cell_type": "code",
   "execution_count": null,
   "id": "241e2c71",
   "metadata": {},
   "outputs": [],
   "source": [
    "fit, T_z, T_z_std = fit_bitflip_time(time_range, mean, std)\n",
    "print(f'{nb_photons} photons')\n",
    "print(f'Bit-flip time: T_Z = ({T_z:.02e} +- {T_z_std:.02e}) s')"
   ]
  },
  {
   "cell_type": "code",
   "execution_count": null,
   "id": "aae97498",
   "metadata": {},
   "outputs": [],
   "source": [
    "T_z_7_photons = T_z\n",
    "T_z_std_7_photons = T_z_std"
   ]
  },
  {
   "cell_type": "code",
   "execution_count": null,
   "id": "45876b3f",
   "metadata": {},
   "outputs": [],
   "source": [
    "plot_bitflip_time(time_range, mean, std, fit)"
   ]
  },
  {
   "cell_type": "markdown",
   "id": "8220228b",
   "metadata": {},
   "source": [
    "## 10 photons\n",
    "\n",
    "At $\\bar{n}=10$ photons, the bit-flip time $T_Z$ increases to several tens of seconds. This is the maximum we can measure with the current readout technique in a reasonable amount of time.\n",
    "\n",
    "> In Réglade, Bocquet et al., arXiv:2307.06617 (2023), we show a quantum trajectory method which allows to measure the bit-flip time virtually up to arbitrarily large values."
   ]
  },
  {
   "cell_type": "code",
   "execution_count": null,
   "id": "0418bfea",
   "metadata": {},
   "outputs": [],
   "source": [
    "nb_photons = 10.0\n",
    "time_range = np.linspace(0, 1.0, 11)\n",
    "shots = 500\n",
    "mean, std = measure_bitflip_time(nb_photons, time_range, shots)"
   ]
  },
  {
   "cell_type": "code",
   "execution_count": null,
   "id": "39cc6046",
   "metadata": {},
   "outputs": [],
   "source": [
    "fit, T_z, T_z_std = fit_bitflip_time(time_range, mean, std)\n",
    "print(f'{nb_photons} photons')\n",
    "print(f'Bit-flip time: T_Z = ({T_z:.02e} +- {T_z_std:.02e}) s')"
   ]
  },
  {
   "cell_type": "code",
   "execution_count": null,
   "id": "77508afa",
   "metadata": {},
   "outputs": [],
   "source": [
    "T_z_10_photons = T_z\n",
    "T_z_std_10_photons = T_z_std"
   ]
  },
  {
   "cell_type": "code",
   "execution_count": null,
   "id": "1772a45b",
   "metadata": {},
   "outputs": [],
   "source": [
    "plot_bitflip_time(time_range, mean, std, fit)"
   ]
  },
  {
   "cell_type": "markdown",
   "id": "c328dede",
   "metadata": {},
   "source": [
    "## Scaling\n",
    "\n",
    "Gathering the results of the previous sections, we plot the scaling of the bit-flip time $T_Z$ with $\\bar{n}$ and fit it with an exponential function $\\exp(\\gamma \\bar{n})$.\n",
    "\n",
    "Thanks to this exponential scaling, bit-flips become quickly completely negligible. As a consequence, we can use a simple 1D repetition code tackling only phase-flips to realize a logical qubit. This leads to a massive reduction of the hardware overhead required for Quantum Error Correction (from x60 to x200)."
   ]
  },
  {
   "cell_type": "code",
   "execution_count": null,
   "id": "3dae103a",
   "metadata": {},
   "outputs": [],
   "source": [
    "nb_photons_range = np.array([4.0, 7.0, 10.0])\n",
    "T_z = np.array([T_z_4_photons, T_z_7_photons, T_z_10_photons])\n",
    "T_z_std = np.array([T_z_std_4_photons, T_z_std_7_photons, T_z_std_10_photons])"
   ]
  },
  {
   "cell_type": "code",
   "execution_count": null,
   "id": "7dba2d09",
   "metadata": {},
   "outputs": [],
   "source": [
    "def fun(nbar, *p):\n",
    "    T0, gamma = p\n",
    "    return T0 * np.exp(gamma * nbar)\n",
    "x = nb_photons_range\n",
    "y = T_z\n",
    "sigma = T_z_std\n",
    "gamma_guess = np.log(y[0] / y[1]) / (x[0] - x[1])\n",
    "T0_guess = y[0] / np.exp(gamma_guess * x[0])\n",
    "p0 = [T0_guess, gamma_guess]\n",
    "popt, pcov = sp.optimize.curve_fit(fun, x, y, p0=p0, sigma=sigma, absolute_sigma=True)"
   ]
  },
  {
   "cell_type": "code",
   "execution_count": null,
   "id": "571483ee",
   "metadata": {},
   "outputs": [],
   "source": [
    "plt.errorbar(\n",
    "    nb_photons_range,\n",
    "    T_z,\n",
    "    yerr=T_z_std,\n",
    "    marker=\"x\",\n",
    "    markersize=8,\n",
    "    capsize=5,\n",
    "    linestyle=\"none\",\n",
    ")\n",
    "plt.plot(nb_photons_range, fun(nb_photons_range, *popt))\n",
    "plt.yscale(\"log\")\n",
    "plt.xlabel(\"Number of photons\")\n",
    "plt.ylabel(\"$T_Z$ (s)\")\n",
    "plt.title(\n",
    "    f\"$T_0=({popt[0]*1e6:.02f}\\pm{np.sqrt(pcov[0,0])*1e6:.02f})$ us - \"\n",
    "    f\"$\\gamma=({popt[1]:.02f}\\pm{np.sqrt(pcov[1,1]):.02f})$\"\n",
    ")"
   ]
  },
  {
   "cell_type": "markdown",
   "id": "5c626000",
   "metadata": {},
   "source": [
    "# SPAM: P0 | Mz and P1 | Mz\n",
    "\n",
    "The physics behind the exponential increase of the bit-flip time $T_Z$ also allows to have exponentially precise state preparation and measurement (SPAM) of the observable Z.\n",
    "\n",
    "We verify it by playing the following pulse sequence:\n",
    "\n",
    "- Prepare state $|0\\rangle$\n",
    "- Measure $Z$\n",
    "\n",
    "Ideally, we would only measure $0$'s. By counting the number of $1$'s we get, that is the number of times the Pauli observable $Z$ flips, we extract the SPAM error probability:\n",
    "\n",
    "$$\\epsilon_Z = \\frac{N_1}{N_0 + N_1}$$\n",
    "\n",
    "We can do the same experiment starting from state $|1\\rangle$, in which case:\n",
    "\n",
    "$$\\epsilon_Z = \\frac{N_0}{N_0 + N_1}$$\n",
    "\n",
    "As we will see, the SPAM errors are suppressed exponentially with the number of photons:\n",
    "\n",
    "$$\\epsilon_Z \\propto e^{-\\gamma\\bar{n}}$$\n",
    "\n",
    "This is really nice, but also makes challenging to measure even a single flip of the observable $Z$ at large photon number. The way we proceed below is to start with 1000 shots, and increase the number of shots by a factor 10x until we get at least 100 flips of the observable. Eventually, we stop at 10_000_000 shots, which is the hard limit of the Cloud API."
   ]
  },
  {
   "cell_type": "markdown",
   "id": "9e52569e",
   "metadata": {},
   "source": [
    "## Circuit"
   ]
  },
  {
   "cell_type": "code",
   "execution_count": null,
   "id": "9be95522",
   "metadata": {},
   "outputs": [],
   "source": [
    "cat_circuit = build_bit_flip_circuit(delay_duration_s=0, add_x=True)\n",
    "cat_circuit.draw(\"mpl\")"
   ]
  },
  {
   "cell_type": "markdown",
   "id": "f44c71fe",
   "metadata": {},
   "source": [
    "## Scaling"
   ]
  },
  {
   "cell_type": "code",
   "execution_count": null,
   "id": "bf06be1d",
   "metadata": {
    "scrolled": false
   },
   "outputs": [],
   "source": [
    "nb_photons_range = np.array([4.0, 7.0, 10.0])\n",
    "N_pos = np.zeros((nb_photons_range.size, 2), dtype=int)\n",
    "N_tot = np.zeros_like(N_pos, dtype=int)\n",
    "for j, add_x in enumerate([True, False]):\n",
    "    N = 1000\n",
    "    for i, nb_photons in enumerate(nb_photons_range):\n",
    "        backend = create_boson_4_backend(nb_photons)\n",
    "        enough_counts = False\n",
    "        reached_limit = False\n",
    "        while (not enough_counts) and (not reached_limit):\n",
    "            success = False\n",
    "            while not success:\n",
    "                try:\n",
    "                    circuit = build_bit_flip_circuit(delay_duration_s=0, add_x=add_x)\n",
    "                    transpiled_circuit = transpile(circuit, backend)\n",
    "                    counts = backend.run(transpiled_circuit, shots=N).result().get_counts()\n",
    "                    success = True\n",
    "                except Exception:\n",
    "                    traceback.print_exc()\n",
    "                    sleep(10)\n",
    "            N_pos[i, j] += counts.get(\"0\", 0) if add_x else counts.get(\"1\", 0)\n",
    "            N_tot[i, j] += counts.get(\"0\", 0) + counts.get(\"1\", 0)\n",
    "            print(\n",
    "                f\"nb_photons = {nb_photons} - add_x = {add_x} - N_pos = \"\n",
    "                f\"{N_pos[i, j]} - N_tot = {N_tot[i, j]}\"\n",
    "            )\n",
    "            if N_pos[i, j] > 100:\n",
    "                enough_counts = True\n",
    "            else:\n",
    "                N *= 10\n",
    "            if N > 10_000_000:\n",
    "                reached_limit = True\n",
    "                N = 10_000_000"
   ]
  },
  {
   "cell_type": "code",
   "execution_count": null,
   "id": "e39543b3",
   "metadata": {},
   "outputs": [],
   "source": [
    "mean = N_pos / N_tot\n",
    "std = np.maximum(np.sqrt(mean * (1 - mean) / N_tot), 3 / N_tot)\n",
    "for i in range(2):\n",
    "    plt.errorbar(\n",
    "        nb_photons_range,\n",
    "        mean[:, i],\n",
    "        yerr=std[:, i],\n",
    "        marker=\"x\",\n",
    "        markersize=8,\n",
    "        capsize=5,\n",
    "        linestyle=\"none\",\n",
    "    )\n",
    "plt.gca().set_prop_cycle(None)\n",
    "for i in range(2):\n",
    "\n",
    "    def fun(nbar, *p):\n",
    "        A, gamma = p\n",
    "        return A * np.exp(-gamma * nbar)\n",
    "\n",
    "    x = nb_photons_range\n",
    "    y = mean[:, i]\n",
    "    sigma = std[:, i]\n",
    "    gamma_guess = np.log(y[0] / y[1]) / (x[1] - x[0])\n",
    "    A_guess = y[0] / np.exp(-gamma_guess * x[0])\n",
    "    p0 = [A_guess, gamma_guess]\n",
    "    popt, pcov = sp.optimize.curve_fit(\n",
    "        fun, x, y, p0=p0, sigma=sigma, absolute_sigma=True\n",
    "    )\n",
    "    plt.plot(\n",
    "        x,\n",
    "        fun(x, *popt),\n",
    "        label=f\"$P_{[1, 0][i]}$: $\\gamma={popt[1]:.02f} \\pm {np.sqrt(pcov[1,1]):.02f}$\",\n",
    "    )\n",
    "plt.yscale(\"log\")\n",
    "plt.legend()\n",
    "plt.xlabel(\"Number of photons\")\n",
    "plt.ylabel(\"$\\epsilon_Z(SPAM)$\")"
   ]
  },
  {
   "cell_type": "markdown",
   "id": "886c42b0",
   "metadata": {},
   "source": [
    "# Phase-flip lifetime: P+ | Idle | Mx\n",
    "\n",
    "To measure the phase-flip time, we play the following pulse sequence:\n",
    "\n",
    "- Prepare $\\langle X \\rangle_0 = 1$\n",
    "- Wait for some variable time $t$\n",
    "- Measure $\\langle X \\rangle_t$\n",
    "\n",
    "We then fit $\\langle X \\rangle_t = \\langle X \\rangle_0 e^{-t/T_X}$, where the decay time $T_X$ of the Pauli observable $X$ is the phase-flip time.\n",
    "\n",
    "> Unlike for the observable $Z$, SPAM errors of the observable $X$ are sizeable. They are even quite large in this chip. This is owing to a not great $T_1\\approx10$ us of the oscillator, and not-best-in-class two-photon dissipation rate $\\kappa_2\\approx 2\\pi\\times200$ kHz. As a consequence, we will keep $\\langle X \\rangle_0$ as a free fit parameter. The SPAM error probability is then given by: $\\epsilon_X = 0.5\\times\\left(1 - \\langle X \\rangle_0\\right)$.\n",
    "\n",
    "Repeating this measurement for several number of photons $\\bar{n}$, we expect to see a linear decrease of the phase-flip time:\n",
    "\n",
    "$$T_X = \\frac{T_1}{2\\bar{n}}$$\n",
    "\n",
    "Where $T_1$ is the energy relaxation time of the oscillator (plus some corrections due to finite temperature and non-linear Purcell rates)."
   ]
  },
  {
   "cell_type": "markdown",
   "id": "7cb038e0",
   "metadata": {},
   "source": [
    "## Circuit"
   ]
  },
  {
   "cell_type": "code",
   "execution_count": null,
   "id": "1be88586",
   "metadata": {},
   "outputs": [],
   "source": [
    "cat_circuit = build_phase_flip_circuit(\n",
    "    delay_duration_s=5e-6, cat_qubit_arch=True\n",
    ")\n",
    "cat_circuit.draw(\"mpl\", cregbundle=False)"
   ]
  },
  {
   "cell_type": "markdown",
   "id": "b62f9691",
   "metadata": {},
   "source": [
    "## Helpers\n",
    "\n",
    "Helper functions to measure $\\langle X \\rangle_t$, fit $T_X$ and plot the result."
   ]
  },
  {
   "cell_type": "code",
   "execution_count": null,
   "id": "34f4d4da",
   "metadata": {},
   "outputs": [],
   "source": [
    "def measure_phaseflip_time(nb_photons, time_range, shots):\n",
    "    mean = np.zeros_like(time_range, dtype=float)\n",
    "    std = np.zeros_like(mean)\n",
    "    backend = create_boson_4_backend(nb_photons)\n",
    "    # backend = create_theory_cat_backend(nb_photons)\n",
    "    for i, time in enumerate(time_range):\n",
    "        success = False\n",
    "        while not success:\n",
    "            try:\n",
    "                circuit = build_phase_flip_circuit(\n",
    "                    delay_duration_s=time, cat_qubit_arch=True\n",
    "                )\n",
    "                transpiled_circuit = transpile(circuit, backend)\n",
    "                counts = backend.run(transpiled_circuit, shots=shots).result().get_counts()\n",
    "                m, s = mean_std_X(counts)\n",
    "                mean[i] = m\n",
    "                std[i] = s\n",
    "                print(\n",
    "                    f\"nb_photons = {nb_photons} - time = {time} - <X> = \"\n",
    "                    f\"{mean[i]:.02e} +- {std[i]:.02e}\"\n",
    "                )\n",
    "                success = True\n",
    "            except Exception:\n",
    "                traceback.print_exc()\n",
    "                sleep(10)\n",
    "    return mean, std\n",
    "\n",
    "\n",
    "def fit_phaseflip_time(time_range, mean, std):\n",
    "    def fun(t, *p):\n",
    "        C_spam, T, offset = p\n",
    "        return C_spam * np.exp(-t / T) + offset\n",
    "\n",
    "    x = time_range\n",
    "    y = mean\n",
    "    sigma = std\n",
    "    offset_guess = y[-1]\n",
    "    C_spam_guess = y[0] - offset_guess\n",
    "    T_guess = -x[1] / np.log((y[1] - offset_guess) / C_spam_guess)\n",
    "    p0 = [C_spam_guess, T_guess, offset_guess]\n",
    "    popt, pcov = sp.optimize.curve_fit(\n",
    "        fun, x, y, p0=p0, sigma=sigma, absolute_sigma=True\n",
    "    )\n",
    "    eps_x_spam = 0.5 * (1 - popt[0])\n",
    "    eps_x_spam_std = 0.5 * np.sqrt(pcov[0, 0])\n",
    "    T_x = popt[1]\n",
    "    T_x_std = np.sqrt(pcov[1, 1])\n",
    "    fit = fun(time_range, *popt)\n",
    "    return fit, T_x, T_x_std, eps_x_spam, eps_x_spam_std\n",
    "\n",
    "\n",
    "def plot_phaseflip_time(time_range, mean, std, fit):\n",
    "    plt.errorbar(\n",
    "        time_range * 1e6,\n",
    "        mean,\n",
    "        yerr=std,\n",
    "        marker=\"x\",\n",
    "        markersize=8,\n",
    "        capsize=5,\n",
    "        linestyle=\"none\",\n",
    "    )\n",
    "    plt.plot(time_range * 1e6, fit)\n",
    "    plt.xlabel(\"Idle time (us)\")\n",
    "    plt.ylabel(\"<X>\")"
   ]
  },
  {
   "cell_type": "markdown",
   "id": "1d993536",
   "metadata": {},
   "source": [
    "## 4 photons\n",
    "\n",
    "We start with the smaller number of photons, $\\bar{n}=4$ photons. Given the large SPAM errors on this chip, we must average heavily: 100_000 shots."
   ]
  },
  {
   "cell_type": "code",
   "execution_count": null,
   "id": "178b54bd",
   "metadata": {},
   "outputs": [],
   "source": [
    "nb_photons = 4.0\n",
    "time_range = np.linspace(0, 5e-6, 21)\n",
    "shots = 100_000\n",
    "mean, std = measure_phaseflip_time(nb_photons, time_range, shots)"
   ]
  },
  {
   "cell_type": "code",
   "execution_count": null,
   "id": "23097c28",
   "metadata": {},
   "outputs": [],
   "source": [
    "fit, T_x, T_x_std, eps_x_spam, eps_x_spam_std = fit_phaseflip_time(time_range, mean, std)\n",
    "print(f'{nb_photons} photons')\n",
    "print(f'Phase-flip time: T_X = ({T_x*1e6:.02f} +- {T_x_std*1e6:.02f}) us')\n",
    "print(f'SPAM: epsilon_X = ({eps_x_spam*100:.01f} +- {eps_x_spam_std*100:.01f}) %')"
   ]
  },
  {
   "cell_type": "code",
   "execution_count": null,
   "id": "7b0bf67a",
   "metadata": {},
   "outputs": [],
   "source": [
    "T_x_4_photons = T_x\n",
    "T_x_std_4_photons = T_x_std\n",
    "eps_x_spam_4_photons = eps_x_spam\n",
    "eps_x_spam_std_4_photons = eps_x_spam_std"
   ]
  },
  {
   "cell_type": "code",
   "execution_count": null,
   "id": "57d59304",
   "metadata": {},
   "outputs": [],
   "source": [
    "plot_phaseflip_time(time_range, mean, std, fit)"
   ]
  },
  {
   "cell_type": "markdown",
   "id": "7fd4a697",
   "metadata": {},
   "source": [
    "## 7 photons"
   ]
  },
  {
   "cell_type": "code",
   "execution_count": null,
   "id": "daee717d",
   "metadata": {},
   "outputs": [],
   "source": [
    "nb_photons = 7.0\n",
    "time_range = np.linspace(0, 2.5e-6, 21)\n",
    "shots = 100_000\n",
    "mean, std = measure_phaseflip_time(nb_photons, time_range, shots)"
   ]
  },
  {
   "cell_type": "code",
   "execution_count": null,
   "id": "38b6bf90",
   "metadata": {},
   "outputs": [],
   "source": [
    "fit, T_x, T_x_std, eps_x_spam, eps_x_spam_std = fit_phaseflip_time(\n",
    "    time_range, mean, std\n",
    ")\n",
    "print(f\"{nb_photons} photons\")\n",
    "print(f\"Phase-flip time: T_X = ({T_x*1e6:.02f} +- {T_x_std*1e6:.02f}) us\")\n",
    "print(f\"SPAM: epsilon_X = ({eps_x_spam*100:.01f} +- {eps_x_spam_std*100:.01f}) %\")"
   ]
  },
  {
   "cell_type": "code",
   "execution_count": null,
   "id": "71f11aa3",
   "metadata": {},
   "outputs": [],
   "source": [
    "T_x_7_photons = T_x\n",
    "T_x_std_7_photons = T_x_std\n",
    "eps_x_spam_7_photons = eps_x_spam\n",
    "eps_x_spam_std_7_photons = eps_x_spam_std"
   ]
  },
  {
   "cell_type": "code",
   "execution_count": null,
   "id": "9a26ec62",
   "metadata": {},
   "outputs": [],
   "source": [
    "plot_phaseflip_time(time_range, mean, std, fit)"
   ]
  },
  {
   "cell_type": "markdown",
   "id": "614e7255",
   "metadata": {},
   "source": [
    "## 10 photons\n",
    "\n",
    "SPAM errors increase with photon number and we must increase the averaging to have acceptable error bars: 200_000 shots."
   ]
  },
  {
   "cell_type": "code",
   "execution_count": null,
   "id": "4cea9c85",
   "metadata": {},
   "outputs": [],
   "source": [
    "nb_photons = 10.0\n",
    "time_range = np.linspace(0, 1.8e-6, 21)\n",
    "shots = 200_000\n",
    "mean, std = measure_phaseflip_time(nb_photons, time_range, shots)"
   ]
  },
  {
   "cell_type": "code",
   "execution_count": null,
   "id": "f1aea0f5",
   "metadata": {},
   "outputs": [],
   "source": [
    "fit, T_x, T_x_std, eps_x_spam, eps_x_spam_std = fit_phaseflip_time(\n",
    "    time_range, mean, std\n",
    ")\n",
    "print(f\"{nb_photons} photons\")\n",
    "print(f\"Phase-flip time: T_X = ({T_x*1e6:.02f} +- {T_x_std*1e6:.02f}) us\")\n",
    "print(f\"SPAM: epsilon_X = ({eps_x_spam*100:.01f} +- {eps_x_spam_std*100:.01f}) %\")"
   ]
  },
  {
   "cell_type": "code",
   "execution_count": null,
   "id": "3c962de7",
   "metadata": {},
   "outputs": [],
   "source": [
    "T_x_10_photons = T_x\n",
    "T_x_std_10_photons = T_x_std\n",
    "eps_x_spam_10_photons = eps_x_spam\n",
    "eps_x_spam_std_10_photons = eps_x_spam_std"
   ]
  },
  {
   "cell_type": "code",
   "execution_count": null,
   "id": "3d4cef90",
   "metadata": {},
   "outputs": [],
   "source": [
    "plot_phaseflip_time(time_range, mean, std, fit)"
   ]
  },
  {
   "cell_type": "markdown",
   "id": "694f5867",
   "metadata": {},
   "source": [
    "## Scaling\n",
    "\n",
    "Gathering the results of the previous sections, we plot the linear scaling of the phase-flip time $T_X$ with $\\bar{n}$ and fit it to extract the effective $T_1$ of the oscillator."
   ]
  },
  {
   "cell_type": "code",
   "execution_count": null,
   "id": "cbb93711",
   "metadata": {},
   "outputs": [],
   "source": [
    "nb_photons_range = np.array([4.0, 7.0, 10.0])\n",
    "T_x = np.array([T_x_4_photons, T_x_7_photons, T_x_10_photons])\n",
    "T_x_std = np.array([T_x_std_4_photons, T_x_std_7_photons, T_x_std_10_photons])\n",
    "Gamma_x = 1 / T_x\n",
    "Gamma_x_std = T_x_std / T_x**2\n",
    "eps_x_spam = np.array(\n",
    "    [eps_x_spam_4_photons, eps_x_spam_7_photons, eps_x_spam_10_photons]\n",
    ")\n",
    "eps_x_spam_std = np.array(\n",
    "    [eps_x_spam_std_4_photons, eps_x_spam_std_7_photons, eps_x_spam_std_10_photons]\n",
    ")"
   ]
  },
  {
   "cell_type": "code",
   "execution_count": null,
   "id": "bfeaf382",
   "metadata": {},
   "outputs": [],
   "source": [
    "def fun(nbar, *p):\n",
    "    T1 = p\n",
    "    return 2 * nbar / T1\n",
    "x = nb_photons_range\n",
    "y = Gamma_x\n",
    "sigma = Gamma_x_std\n",
    "p0 = [1 / np.mean(y / (2 * x))]\n",
    "popt, pcov = sp.optimize.curve_fit(fun, x, y, p0=p0, sigma=sigma, absolute_sigma=True)"
   ]
  },
  {
   "cell_type": "code",
   "execution_count": null,
   "id": "9f43b6d7",
   "metadata": {},
   "outputs": [],
   "source": [
    "plt.errorbar(\n",
    "    nb_photons_range,\n",
    "    Gamma_x * 1e-6,\n",
    "    yerr=Gamma_x_std * 1e-6,\n",
    "    marker=\"x\",\n",
    "    markersize=8,\n",
    "    capsize=5,\n",
    "    linestyle=\"none\",\n",
    ")\n",
    "plt.plot(nb_photons_range, fun(nb_photons_range, *popt) * 1e-6)\n",
    "plt.xlabel(\"Number of photons\")\n",
    "plt.ylabel(\"$1 / T_X$ $(us^{-1})$\")\n",
    "plt.title(f\"$T_1=({popt[0]*1e6:.02f}\\pm{np.sqrt(pcov[0,0])*1e6:.02f})$ us\")"
   ]
  },
  {
   "cell_type": "code",
   "execution_count": null,
   "id": "a1b954d2",
   "metadata": {},
   "outputs": [],
   "source": [
    "plt.errorbar(\n",
    "    nb_photons_range,\n",
    "    eps_x_spam,\n",
    "    yerr=eps_x_spam_std,\n",
    "    marker=\"x\",\n",
    "    markersize=8,\n",
    "    capsize=5,\n",
    "    linestyle=\"none\",\n",
    ")\n",
    "plt.xlabel(\"Number of photons\")\n",
    "plt.ylabel(\"$\\epsilon_X(SPAM)$\")"
   ]
  },
  {
   "cell_type": "markdown",
   "id": "cef5bb17",
   "metadata": {},
   "source": [
    "# Z-gate phase-flip: P+ | Z^n | Mx\n",
    "\n",
    "To characterize the Z-gate, we play the following pulse sequence:\n",
    "\n",
    "- Prepare $\\langle X \\rangle_0 = 1$\n",
    "- Play a number $n$ of Z-gate\n",
    "- Measure $\\langle X \\rangle_n$\n",
    "\n",
    "We then fit $\\langle X \\rangle_n = \\langle X \\rangle_0 (-C_X)^n$, where $C_X$ is the loss of contrast of the Pauli observable $X$ per Z-gate. The phase-flip error probability per Z-gate is then given by:\n",
    "\n",
    "$$\\epsilon_X = \\frac{1 - C_X}{2}$$\n",
    "\n",
    "Note that for the same reasons that SPAM errors of the observable $X$ are not good, phase-flip errors per Z-gate are not expected to be good either on this chip."
   ]
  },
  {
   "cell_type": "markdown",
   "id": "c3227b55",
   "metadata": {},
   "source": [
    "## Circuit"
   ]
  },
  {
   "cell_type": "code",
   "execution_count": null,
   "id": "952eaaf1",
   "metadata": {},
   "outputs": [],
   "source": [
    "cat_circuit = build_phase_flip_circuit(delay_duration_s=0, cat_qubit_arch=True, add_z=3)\n",
    "cat_circuit.draw('mpl')"
   ]
  },
  {
   "cell_type": "markdown",
   "id": "630d24cc",
   "metadata": {},
   "source": [
    "## Helpers\n",
    "\n",
    "Helper functions to measure $\\langle X \\rangle_n$, fit $\\epsilon_X$ and plot the result."
   ]
  },
  {
   "cell_type": "code",
   "execution_count": null,
   "id": "be2457ab",
   "metadata": {},
   "outputs": [],
   "source": [
    "def measure_phaseflip_Zgate(nb_photons, nb_gates_range, shots):\n",
    "    mean = np.zeros_like(nb_gates_range, dtype=float)\n",
    "    std = np.zeros_like(mean)\n",
    "    backend = create_boson_4_backend(nb_photons)\n",
    "    # backend = create_theory_cat_backend(nb_photons)\n",
    "    for i, nb_gates in enumerate(nb_gates_range):\n",
    "        success = False\n",
    "        while not success:\n",
    "            try:\n",
    "                circuit = build_phase_flip_circuit(\n",
    "                    delay_duration_s=0, cat_qubit_arch=True, add_z=nb_gates\n",
    "                )\n",
    "                transpiled_circuit = transpile(circuit, backend)\n",
    "                counts = backend.run(transpiled_circuit, shots=shots).result().get_counts()\n",
    "                m, s = mean_std_X(counts)\n",
    "                mean[i] = m\n",
    "                std[i] = s\n",
    "                print(\n",
    "                    f\"nb_photons = {nb_photons} - nb_gates = {nb_gates} - <X> = \"\n",
    "                    f\"{mean[i]:.02e} +- {std[i]:.02e}\"\n",
    "                )\n",
    "                success = True\n",
    "            except Exception:\n",
    "                traceback.print_exc()\n",
    "                sleep(10)\n",
    "    return mean, std\n",
    "\n",
    "\n",
    "def fit_phaseflip_Zgate(nb_gates_range, mean, std):\n",
    "    def fun(n, *p):\n",
    "        C_spam, C_Zgate, offset = p\n",
    "        return C_spam * (-C_Zgate) ** n + offset\n",
    "\n",
    "    x = nb_gates_range\n",
    "    y = mean\n",
    "    sigma = std\n",
    "    offset_guess = y[-1]\n",
    "    C_spam_guess = y[0] - offset_guess\n",
    "    C_Zgate_guess = -(y[1] - offset_guess) / C_spam_guess\n",
    "    p0 = [C_spam_guess, C_Zgate_guess, offset_guess]\n",
    "    popt, pcov = sp.optimize.curve_fit(\n",
    "        fun, x, y, p0=p0, sigma=sigma, absolute_sigma=True\n",
    "    )\n",
    "    eps_x_spam = 0.5 * (1 - popt[0])\n",
    "    eps_x_spam_std = 0.5 * np.sqrt(pcov[0, 0])\n",
    "    eps_x_Zgate = 0.5 * (1 - popt[1])\n",
    "    eps_x_Zgate_std = 0.5 * np.sqrt(pcov[1, 1])\n",
    "    fit = fun(nb_gates_range, *popt)\n",
    "    return fit, eps_x_Zgate, eps_x_Zgate_std, eps_x_spam, eps_x_spam_std\n",
    "\n",
    "\n",
    "def plot_phaseflip_Zgate(nb_gates_range, mean, std, fit):\n",
    "    plt.errorbar(\n",
    "        nb_gates_range,\n",
    "        mean,\n",
    "        yerr=std,\n",
    "        marker=\"x\",\n",
    "        markersize=8,\n",
    "        capsize=5,\n",
    "        linestyle=\"none\",\n",
    "    )\n",
    "    plt.plot(nb_gates_range[::2], fit[::2])\n",
    "    plt.plot(nb_gates_range[1::2], fit[1::2])\n",
    "    plt.xlabel(\"Number of gates\")\n",
    "    plt.ylabel(\"<X>\")"
   ]
  },
  {
   "cell_type": "markdown",
   "id": "7a5a4d0c",
   "metadata": {},
   "source": [
    "## 4 photons\n",
    "\n",
    "We start with the smaller number of photons, $\\bar{n}=4$ photons. Given the large SPAM errors on this chip, we must average heavily: 100_000 shots."
   ]
  },
  {
   "cell_type": "code",
   "execution_count": null,
   "id": "3f06a48f",
   "metadata": {},
   "outputs": [],
   "source": [
    "nb_photons = 4.0\n",
    "nb_gates_range = np.arange(20, dtype=int)\n",
    "shots = 100_000\n",
    "mean, std = measure_phaseflip_Zgate(nb_photons, nb_gates_range, shots)"
   ]
  },
  {
   "cell_type": "code",
   "execution_count": null,
   "id": "3c93c156",
   "metadata": {},
   "outputs": [],
   "source": [
    "fit, eps_x_Zgate, eps_x_Zgate_std, eps_x_spam, eps_x_spam_std = fit_phaseflip_Zgate(\n",
    "    nb_gates_range, mean, std\n",
    ")\n",
    "print(f\"{nb_photons} photons\")\n",
    "print(f\"Z-gate: epsilon_X = ({eps_x_Zgate*100:.01f} +- {eps_x_Zgate_std*100:.01f}) %\")\n",
    "print(f\"SPAM: epsilon_X = ({eps_x_spam*100:.01f} +- {eps_x_spam_std*100:.01f}) %\")"
   ]
  },
  {
   "cell_type": "code",
   "execution_count": null,
   "id": "270e0120",
   "metadata": {},
   "outputs": [],
   "source": [
    "eps_x_Zgate_4_photons = eps_x_Zgate\n",
    "eps_x_Zgate_std_4_photons = eps_x_Zgate_std\n",
    "eps_x_spam_4_photons = eps_x_spam\n",
    "eps_x_spam_std_4_photons = eps_x_spam_std"
   ]
  },
  {
   "cell_type": "code",
   "execution_count": null,
   "id": "407087eb",
   "metadata": {},
   "outputs": [],
   "source": [
    "plot_phaseflip_Zgate(nb_gates_range, mean, std, fit)"
   ]
  },
  {
   "cell_type": "markdown",
   "id": "1cd3a051",
   "metadata": {},
   "source": [
    "## 7 photons\n",
    "\n",
    "SPAM and Z-gate errors increase with photon number and we must increase the averaging to have acceptable error bars: 200_000 shots."
   ]
  },
  {
   "cell_type": "code",
   "execution_count": null,
   "id": "c5c8a1bb",
   "metadata": {},
   "outputs": [],
   "source": [
    "nb_photons = 7.0\n",
    "nb_gates_range = np.arange(10, dtype=int)\n",
    "shots = 200_000\n",
    "mean, std = measure_phaseflip_Zgate(nb_photons, nb_gates_range, shots)"
   ]
  },
  {
   "cell_type": "code",
   "execution_count": null,
   "id": "488a2694",
   "metadata": {},
   "outputs": [],
   "source": [
    "fit, eps_x_Zgate, eps_x_Zgate_std, eps_x_spam, eps_x_spam_std = fit_phaseflip_Zgate(\n",
    "    nb_gates_range, mean, std\n",
    ")\n",
    "print(f\"{nb_photons} photons\")\n",
    "print(f\"Z-gate: epsilon_X = ({eps_x_Zgate*100:.01f} +- {eps_x_Zgate_std*100:.01f}) %\")\n",
    "print(f\"SPAM: epsilon_X = ({eps_x_spam*100:.01f} +- {eps_x_spam_std*100:.01f}) %\")"
   ]
  },
  {
   "cell_type": "code",
   "execution_count": null,
   "id": "179bbe5f",
   "metadata": {},
   "outputs": [],
   "source": [
    "eps_x_Zgate_7_photons = eps_x_Zgate\n",
    "eps_x_Zgate_std_7_photons = eps_x_Zgate_std\n",
    "eps_x_spam_7_photons = eps_x_spam\n",
    "eps_x_spam_std_7_photons = eps_x_spam_std"
   ]
  },
  {
   "cell_type": "code",
   "execution_count": null,
   "id": "dcc95d3a",
   "metadata": {},
   "outputs": [],
   "source": [
    "plot_phaseflip_Zgate(nb_gates_range, mean, std, fit)"
   ]
  },
  {
   "cell_type": "markdown",
   "id": "7578118e",
   "metadata": {},
   "source": [
    "## 10 photons\n",
    "\n",
    "SPAM and Z-gate errors increase with photon number and we must increase again the averaging to have acceptable error bars: 400_000 shots."
   ]
  },
  {
   "cell_type": "code",
   "execution_count": null,
   "id": "6cdaa5e6",
   "metadata": {},
   "outputs": [],
   "source": [
    "nb_photons = 10.0\n",
    "nb_gates_range = np.arange(10, dtype=int)\n",
    "shots = 400_000\n",
    "mean, std = measure_phaseflip_Zgate(nb_photons, nb_gates_range, shots)"
   ]
  },
  {
   "cell_type": "code",
   "execution_count": null,
   "id": "5ae9e204",
   "metadata": {},
   "outputs": [],
   "source": [
    "fit, eps_x_Zgate, eps_x_Zgate_std, eps_x_spam, eps_x_spam_std = fit_phaseflip_Zgate(\n",
    "    nb_gates_range, mean, std\n",
    ")\n",
    "print(f\"{nb_photons} photons\")\n",
    "print(f\"Z-gate: epsilon_X = ({eps_x_Zgate*100:.01f} +- {eps_x_Zgate_std*100:.01f}) %\")\n",
    "print(f\"SPAM: epsilon_X = ({eps_x_spam*100:.01f} +- {eps_x_spam_std*100:.01f}) %\")"
   ]
  },
  {
   "cell_type": "code",
   "execution_count": null,
   "id": "f0fd30d2",
   "metadata": {},
   "outputs": [],
   "source": [
    "eps_x_Zgate_10_photons = eps_x_Zgate\n",
    "eps_x_Zgate_std_10_photons = eps_x_Zgate_std\n",
    "eps_x_spam_10_photons = eps_x_spam\n",
    "eps_x_spam_std_10_photons = eps_x_spam_std"
   ]
  },
  {
   "cell_type": "code",
   "execution_count": null,
   "id": "d6c1cd8f",
   "metadata": {},
   "outputs": [],
   "source": [
    "plot_phaseflip_Zgate(nb_gates_range, mean, std, fit)"
   ]
  },
  {
   "cell_type": "markdown",
   "id": "a1253d31",
   "metadata": {},
   "source": [
    "## Scaling"
   ]
  },
  {
   "cell_type": "code",
   "execution_count": null,
   "id": "49e82c77",
   "metadata": {},
   "outputs": [],
   "source": [
    "nb_photons_range = np.array([4.0, 7.0, 10.0])\n",
    "eps_x_Zgate = np.array(\n",
    "    [eps_x_Zgate_4_photons, eps_x_Zgate_7_photons, eps_x_Zgate_10_photons]\n",
    ")\n",
    "eps_x_Zgate_std = np.array(\n",
    "    [eps_x_Zgate_std_4_photons, eps_x_Zgate_std_7_photons, eps_x_Zgate_std_10_photons]\n",
    ")\n",
    "eps_x_spam = np.array(\n",
    "    [eps_x_spam_4_photons, eps_x_spam_7_photons, eps_x_spam_10_photons]\n",
    ")\n",
    "eps_x_spam_std = np.array(\n",
    "    [eps_x_spam_std_4_photons, eps_x_spam_std_7_photons, eps_x_spam_std_10_photons]\n",
    ")"
   ]
  },
  {
   "cell_type": "code",
   "execution_count": null,
   "id": "87394b8b",
   "metadata": {},
   "outputs": [],
   "source": [
    "plt.errorbar(\n",
    "    nb_photons_range,\n",
    "    eps_x_Zgate,\n",
    "    yerr=eps_x_Zgate_std,\n",
    "    marker=\"x\",\n",
    "    markersize=8,\n",
    "    capsize=5,\n",
    "    linestyle=\"none\",\n",
    ")\n",
    "plt.xlabel(\"Number of photons\")\n",
    "plt.ylabel(\"$\\epsilon_X(Z(\\pi))$\")"
   ]
  },
  {
   "cell_type": "code",
   "execution_count": null,
   "id": "2f162c3e",
   "metadata": {},
   "outputs": [],
   "source": [
    "plt.errorbar(\n",
    "    nb_photons_range,\n",
    "    eps_x_spam,\n",
    "    yerr=eps_x_spam_std,\n",
    "    marker=\"x\",\n",
    "    markersize=8,\n",
    "    capsize=5,\n",
    "    linestyle=\"none\",\n",
    ")\n",
    "plt.xlabel(\"Number of photons\")\n",
    "plt.ylabel(\"$\\epsilon_X(SPAM)$\")"
   ]
  },
  {
   "cell_type": "markdown",
   "id": "80ba1492",
   "metadata": {},
   "source": [
    "# Z-gate bit-flip: P0 | Z^n | Mz\n",
    "\n",
    "A crucial property of cat-qubit gates is  that they should be **bias-preserving**. That is, bit-flips should remain exponentially suppressed during the gate. To characterize the bias-preservingness of the Z-gate, we play the following pulse sequence:\n",
    "\n",
    "- Prepare $\\langle Z \\rangle_0 = \\pm 1$\n",
    "- Play a number $n$ of Z-gate\n",
    "- Measure $\\langle Z \\rangle_n$\n",
    "\n",
    "We then fit $\\langle Z \\rangle_n = \\langle Z \\rangle_0 C_Z^n$, where $C_Z$ is the loss of contrast of the Pauli observable $Z$ per Z-gate. The bit-flip error probability per Z-gate is then given by:\n",
    "\n",
    "$$\\epsilon_Z = \\frac{1 - C_Z}{2}$$\n",
    "\n",
    "The Z-gate is bias-preserving if $\\epsilon_Z$ is suppressed exponentially with the number of photons:\n",
    "\n",
    "$$\\epsilon_Z \\propto e^{-\\gamma\\bar{n}}$$\n",
    "\n",
    "> Note that we can sometimes observe in this measurement a small bias towards state $|0\\rangle$ or $|1\\rangle$. This is due to calibrations drift and we're working at improving the stability.\n",
    "\n",
    "> Also note that, owing to compilation inefficiencies of the first release of the Cloud API, we are limited to play only a few hundred gates (hopefully this limitation will soon be removed!). Therefore, we can only measure $\\epsilon_Z$ with acceptable error bars up to $\\bar{n}=7$."
   ]
  },
  {
   "cell_type": "markdown",
   "id": "49474fef",
   "metadata": {},
   "source": [
    "## Circuit"
   ]
  },
  {
   "cell_type": "code",
   "execution_count": null,
   "id": "27e643ca",
   "metadata": {},
   "outputs": [],
   "source": [
    "cat_circuit = build_bit_flip_circuit(delay_duration_s=0, add_x=True, add_z=3)\n",
    "cat_circuit.draw('mpl')"
   ]
  },
  {
   "cell_type": "markdown",
   "id": "5faaf7d3",
   "metadata": {},
   "source": [
    "## Helpers"
   ]
  },
  {
   "cell_type": "code",
   "execution_count": null,
   "id": "161a2fb3",
   "metadata": {},
   "outputs": [],
   "source": [
    "def measure_bitflip_Zgate(nb_photons, nb_gates_range, shots):\n",
    "    mean = np.zeros((nb_gates_range.size, 2), dtype=float)\n",
    "    std = np.zeros_like(mean)\n",
    "    backend = create_boson_4_backend(nb_photons)\n",
    "    # backend = create_theory_cat_backend(nb_photons)\n",
    "    for i, nb_gates in enumerate(nb_gates_range):\n",
    "        for j, add_x in enumerate([True, False]):\n",
    "            success = False\n",
    "            while not success:\n",
    "                try:\n",
    "                    circuit = build_bit_flip_circuit(\n",
    "                        delay_duration_s=0, add_z=nb_gates, add_x=add_x\n",
    "                    )\n",
    "                    transpiled_circuit = transpile(circuit, backend)\n",
    "                    counts = backend.run(transpiled_circuit, shots=shots).result().get_counts()\n",
    "                    m, s = mean_std_Z(counts)\n",
    "                    mean[i, j] = m\n",
    "                    std[i, j] = s\n",
    "                    print(\n",
    "                        f\"nb_photons = {nb_photons} - nb_gates = {nb_gates} - \"\n",
    "                        f\"add_x = {add_x} - <Z> = {mean[i, j]:.02e} +- {std[i, j]:.02e}\"\n",
    "                    )\n",
    "                    success = True\n",
    "                except Exception:\n",
    "                    traceback.print_exc()\n",
    "                    sleep(10)\n",
    "    return mean, std\n",
    "\n",
    "\n",
    "def fit_bitflip_Zgate(nb_gates_range, mean, std):\n",
    "    def fun(n, *p):\n",
    "        C_Zpi = p\n",
    "        return C_Zpi**n\n",
    "\n",
    "    x = nb_gates_range\n",
    "    y = 0.5 * (mean[:, 0] - mean[:, 1])\n",
    "    sigma = 0.5 * np.sqrt(std[:, 1] ** 2 + std[:, 0] ** 2)\n",
    "    C_Zpi_guess = y[1]\n",
    "    p0 = [C_Zpi_guess]\n",
    "    popt, pcov = sp.optimize.curve_fit(\n",
    "        fun, x, y, p0=p0, sigma=sigma, absolute_sigma=True\n",
    "    )\n",
    "    eps_z_Zgate = 0.5 * (1 - popt[0])\n",
    "    eps_z_Zgate_std = 0.5 * np.sqrt(pcov[0, 0])\n",
    "    fit = fun(nb_gates_range, *popt)\n",
    "    return fit, eps_z_Zgate, eps_z_Zgate_std\n",
    "\n",
    "\n",
    "def plot_bitflip_Zgate(nb_gates_range, mean, std, fit):\n",
    "    plt.errorbar(\n",
    "        nb_gates_range,\n",
    "        mean[:, 0],\n",
    "        yerr=std[:, 0],\n",
    "        marker=\"x\",\n",
    "        markersize=8,\n",
    "        capsize=5,\n",
    "        linestyle=\"none\",\n",
    "        label=\"$P_0$\",\n",
    "    )\n",
    "    plt.errorbar(\n",
    "        nb_gates_range,\n",
    "        -mean[:, 1],\n",
    "        yerr=std[:, 1],\n",
    "        marker=\"x\",\n",
    "        markersize=8,\n",
    "        capsize=5,\n",
    "        linestyle=\"none\",\n",
    "        label=\"$P_1$\",\n",
    "    )\n",
    "    plt.plot(nb_gates_range, fit, label=\"Fit\")\n",
    "    plt.xlabel(\"Number of gates\")\n",
    "    plt.ylabel(\"abs(<Z>)\")\n",
    "    plt.legend()"
   ]
  },
  {
   "cell_type": "markdown",
   "id": "6fe82dea",
   "metadata": {},
   "source": [
    "## 4 photons"
   ]
  },
  {
   "cell_type": "code",
   "execution_count": null,
   "id": "a092b4a6",
   "metadata": {
    "scrolled": false
   },
   "outputs": [],
   "source": [
    "nb_photons = 4.0\n",
    "nb_gates_range = np.arange(0, 200, 20, dtype=int)\n",
    "shots = 500\n",
    "mean, std = measure_bitflip_Zgate(nb_photons, nb_gates_range, shots)"
   ]
  },
  {
   "cell_type": "code",
   "execution_count": null,
   "id": "9fba651b",
   "metadata": {},
   "outputs": [],
   "source": [
    "fit, eps_z_Zgate, eps_z_Zgate_std = fit_bitflip_Zgate(nb_gates_range, mean, std)\n",
    "print(f'{nb_photons} photons')\n",
    "print(f'Z-gate: epsilon_Z = ({eps_z_Zgate:.02e} +- {eps_z_Zgate_std:.02e})')"
   ]
  },
  {
   "cell_type": "code",
   "execution_count": null,
   "id": "29f23131",
   "metadata": {},
   "outputs": [],
   "source": [
    "eps_z_Zgate_4_photons = eps_z_Zgate\n",
    "eps_z_Zgate_std_4_photons = eps_z_Zgate_std"
   ]
  },
  {
   "cell_type": "code",
   "execution_count": null,
   "id": "7cb5237b",
   "metadata": {},
   "outputs": [],
   "source": [
    "plot_bitflip_Zgate(nb_gates_range, mean, std, fit)"
   ]
  },
  {
   "cell_type": "markdown",
   "id": "d0bfbe2a",
   "metadata": {},
   "source": [
    "## 5.5 photons"
   ]
  },
  {
   "cell_type": "code",
   "execution_count": null,
   "id": "0ac3c35e",
   "metadata": {
    "scrolled": false
   },
   "outputs": [],
   "source": [
    "nb_photons = 5.5\n",
    "nb_gates_range = np.array([0, 100, 200])\n",
    "shots = 500_000\n",
    "mean, std = measure_bitflip_Zgate(nb_photons, nb_gates_range, shots)"
   ]
  },
  {
   "cell_type": "code",
   "execution_count": null,
   "id": "34d8554a",
   "metadata": {},
   "outputs": [],
   "source": [
    "fit, eps_z_Zgate, eps_z_Zgate_std = fit_bitflip_Zgate(nb_gates_range, mean, std)\n",
    "print(f'{nb_photons} photons')\n",
    "print(f'Z-gate: epsilon_Z = ({eps_z_Zgate:.02e} +- {eps_z_Zgate_std:.02e})')"
   ]
  },
  {
   "cell_type": "code",
   "execution_count": null,
   "id": "fdd38eae",
   "metadata": {},
   "outputs": [],
   "source": [
    "eps_z_Zgate_5p5_photons = eps_z_Zgate\n",
    "eps_z_Zgate_std_5p5_photons = eps_z_Zgate_std"
   ]
  },
  {
   "cell_type": "code",
   "execution_count": null,
   "id": "0518be01",
   "metadata": {},
   "outputs": [],
   "source": [
    "plot_bitflip_Zgate(nb_gates_range, mean, std, fit)"
   ]
  },
  {
   "cell_type": "markdown",
   "id": "badc086a",
   "metadata": {},
   "source": [
    "## 7 photons"
   ]
  },
  {
   "cell_type": "code",
   "execution_count": null,
   "id": "f42b44f1",
   "metadata": {
    "scrolled": false
   },
   "outputs": [],
   "source": [
    "nb_photons = 7.0\n",
    "nb_gates_range = np.array([0, 100, 200])\n",
    "shots = 500_000\n",
    "mean, std = measure_bitflip_Zgate(nb_photons, nb_gates_range, shots)"
   ]
  },
  {
   "cell_type": "code",
   "execution_count": null,
   "id": "abc32659",
   "metadata": {},
   "outputs": [],
   "source": [
    "fit, eps_z_Zgate, eps_z_Zgate_std = fit_bitflip_Zgate(nb_gates_range, mean, std)\n",
    "print(f'{nb_photons} photons')\n",
    "print(f'Z-gate: epsilon_Z = ({eps_z_Zgate:.02e} +- {eps_z_Zgate_std:.02e})')"
   ]
  },
  {
   "cell_type": "code",
   "execution_count": null,
   "id": "a6a45603",
   "metadata": {},
   "outputs": [],
   "source": [
    "eps_z_Zgate_7_photons = eps_z_Zgate\n",
    "eps_z_Zgate_std_7_photons = eps_z_Zgate_std"
   ]
  },
  {
   "cell_type": "code",
   "execution_count": null,
   "id": "3596fad4",
   "metadata": {},
   "outputs": [],
   "source": [
    "plot_bitflip_Zgate(nb_gates_range, mean, std, fit)"
   ]
  },
  {
   "cell_type": "markdown",
   "id": "2692f4d3",
   "metadata": {},
   "source": [
    "## Scaling\n",
    "\n",
    "Gathering the results of the previous sections, we plot the scaling of the bit-flip error probability per Z-gate $\\epsilon_Z$ with $\\bar{n}$ and fit it with an exponential function $\\exp(\\gamma \\bar{n})$.\n",
    "\n",
    "The scaling factor $\\gamma$ fitted on $\\epsilon_Z$ has almost that fitted on $T_Z$. That is, bit-flips during the Z-gate and idling are similar."
   ]
  },
  {
   "cell_type": "code",
   "execution_count": null,
   "id": "6c7a8ef8",
   "metadata": {},
   "outputs": [],
   "source": [
    "nb_photons_range = np.array([4.0, 5.5, 7.0])\n",
    "eps_z_Zgate = np.array(\n",
    "    [eps_z_Zgate_4_photons, eps_z_Zgate_5p5_photons, eps_z_Zgate_7_photons]\n",
    ")\n",
    "eps_z_Zgate_std = np.array(\n",
    "    [eps_z_Zgate_std_4_photons, eps_z_Zgate_std_5p5_photons, eps_z_Zgate_std_7_photons]\n",
    ")"
   ]
  },
  {
   "cell_type": "code",
   "execution_count": null,
   "id": "b2a31895",
   "metadata": {},
   "outputs": [],
   "source": [
    "def fun(nbar, *p):\n",
    "    A, gamma = p\n",
    "    return A * np.exp(gamma * nbar)\n",
    "\n",
    "\n",
    "x = nb_photons_range\n",
    "y = eps_z_Zgate\n",
    "sigma = eps_z_Zgate_std\n",
    "gamma_guess = np.log(y[0] / y[1]) / (x[0] - x[1])\n",
    "A_guess = y[0] / np.exp(gamma_guess * x[0])\n",
    "p0 = [A_guess, gamma_guess]\n",
    "popt, pcov = sp.optimize.curve_fit(fun, x, y, p0=p0, sigma=sigma, absolute_sigma=True)"
   ]
  },
  {
   "cell_type": "code",
   "execution_count": null,
   "id": "b8bde87d",
   "metadata": {},
   "outputs": [],
   "source": [
    "plt.errorbar(\n",
    "    nb_photons_range,\n",
    "    eps_z_Zgate,\n",
    "    yerr=eps_z_Zgate_std,\n",
    "    marker=\"x\",\n",
    "    markersize=8,\n",
    "    capsize=5,\n",
    "    linestyle=\"none\",\n",
    ")\n",
    "plt.plot(nb_photons_range, fun(nb_photons_range, *popt))\n",
    "plt.yscale(\"log\")\n",
    "plt.xlabel(\"Number of photons\")\n",
    "plt.ylabel(\"$\\epsilon_Z(Z(\\pi))$\")\n",
    "plt.title(f\"$\\gamma=({popt[1]:.02f}\\pm{np.sqrt(pcov[1,1]):.02f})$\")"
   ]
  }
 ],
 "metadata": {
  "kernelspec": {
   "display_name": "Python 3 (ipykernel)",
   "language": "python",
   "name": "python3"
  },
  "language_info": {
   "codemirror_mode": {
    "name": "ipython",
    "version": 3
   },
   "file_extension": ".py",
   "mimetype": "text/x-python",
   "name": "python",
   "nbconvert_exporter": "python",
   "pygments_lexer": "ipython3",
   "version": "3.11.8"
  },
  "toc": {
   "base_numbering": 1,
   "nav_menu": {},
   "number_sections": true,
   "sideBar": true,
   "skip_h1_title": false,
   "title_cell": "Table of Contents",
   "title_sidebar": "Contents",
   "toc_cell": false,
   "toc_position": {
    "height": "calc(100% - 180px)",
    "left": "10px",
    "top": "150px",
    "width": "268px"
   },
   "toc_section_display": true,
   "toc_window_display": true
  }
 },
 "nbformat": 4,
 "nbformat_minor": 5
}
